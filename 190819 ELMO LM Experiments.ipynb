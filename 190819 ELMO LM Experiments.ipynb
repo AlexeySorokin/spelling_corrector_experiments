{
 "cells": [
  {
   "cell_type": "code",
   "execution_count": 1,
   "metadata": {},
   "outputs": [
    {
     "name": "stderr",
     "output_type": "stream",
     "text": [
      "2019-08-19 15:54:39.231 INFO in 'deeppavlov.core.data.utils'['utils'] at line 63: Downloading from http://files.deeppavlov.ai/deeppavlov_data/original_elmo_configuration_and_vocab.tar.gz to /home/alx/.deeppavlov/models/original_elmo_configuration_and_vocab.tar.gz\n",
      "100%|██████████| 3.50M/3.50M [00:00<00:00, 11.6MB/s]\n",
      "2019-08-19 15:54:39.535 INFO in 'deeppavlov.core.data.utils'['utils'] at line 201: Extracting /home/alx/.deeppavlov/models/original_elmo_configuration_and_vocab.tar.gz archive into /home/alx/.deeppavlov/models/elmo-1b-benchmark\n",
      "2019-08-19 15:54:39.617 INFO in 'deeppavlov.core.data.utils'['utils'] at line 63: Downloading from http://files.deeppavlov.ai/deeppavlov_data/1-billion-word-language-modeling-benchmark-r13output.tar.gz to /home/alx/.deeppavlov/downloads/elmo-1b-benchmark/1-billion-word-language-modeling-benchmark-r13output.tar.gz\n",
      "100%|██████████| 1.79G/1.79G [02:38<00:00, 11.3MB/s]\n",
      "2019-08-19 15:57:17.711 INFO in 'deeppavlov.core.data.utils'['utils'] at line 201: Extracting /home/alx/.deeppavlov/downloads/elmo-1b-benchmark/1-billion-word-language-modeling-benchmark-r13output.tar.gz archive into /home/alx/.deeppavlov/downloads/elmo-1b-benchmark/data\n",
      "[nltk_data] Downloading package punkt to /home/alx/nltk_data...\n",
      "[nltk_data]   Package punkt is already up-to-date!\n",
      "[nltk_data] Downloading package stopwords to /home/alx/nltk_data...\n",
      "[nltk_data]   Package stopwords is already up-to-date!\n",
      "[nltk_data] Downloading package perluniprops to /home/alx/nltk_data...\n",
      "[nltk_data]   Package perluniprops is already up-to-date!\n",
      "[nltk_data] Downloading package nonbreaking_prefixes to\n",
      "[nltk_data]     /home/alx/nltk_data...\n",
      "[nltk_data]   Package nonbreaking_prefixes is already up-to-date!\n",
      "/home/alx/Cloud/dns/.venv3/lib/python3.6/site-packages/tensorflow/python/framework/dtypes.py:516: FutureWarning: Passing (type, 1) or '1type' as a synonym of type is deprecated; in a future version of numpy, it will be understood as (type, (1,)) / '(1,)type'.\n",
      "  _np_qint8 = np.dtype([(\"qint8\", np.int8, 1)])\n",
      "/home/alx/Cloud/dns/.venv3/lib/python3.6/site-packages/tensorflow/python/framework/dtypes.py:517: FutureWarning: Passing (type, 1) or '1type' as a synonym of type is deprecated; in a future version of numpy, it will be understood as (type, (1,)) / '(1,)type'.\n",
      "  _np_quint8 = np.dtype([(\"quint8\", np.uint8, 1)])\n",
      "/home/alx/Cloud/dns/.venv3/lib/python3.6/site-packages/tensorflow/python/framework/dtypes.py:518: FutureWarning: Passing (type, 1) or '1type' as a synonym of type is deprecated; in a future version of numpy, it will be understood as (type, (1,)) / '(1,)type'.\n",
      "  _np_qint16 = np.dtype([(\"qint16\", np.int16, 1)])\n",
      "/home/alx/Cloud/dns/.venv3/lib/python3.6/site-packages/tensorflow/python/framework/dtypes.py:519: FutureWarning: Passing (type, 1) or '1type' as a synonym of type is deprecated; in a future version of numpy, it will be understood as (type, (1,)) / '(1,)type'.\n",
      "  _np_quint16 = np.dtype([(\"quint16\", np.uint16, 1)])\n",
      "/home/alx/Cloud/dns/.venv3/lib/python3.6/site-packages/tensorflow/python/framework/dtypes.py:520: FutureWarning: Passing (type, 1) or '1type' as a synonym of type is deprecated; in a future version of numpy, it will be understood as (type, (1,)) / '(1,)type'.\n",
      "  _np_qint32 = np.dtype([(\"qint32\", np.int32, 1)])\n",
      "/home/alx/Cloud/dns/.venv3/lib/python3.6/site-packages/tensorflow/python/framework/dtypes.py:525: FutureWarning: Passing (type, 1) or '1type' as a synonym of type is deprecated; in a future version of numpy, it will be understood as (type, (1,)) / '(1,)type'.\n",
      "  np_resource = np.dtype([(\"resource\", np.ubyte, 1)])\n",
      "/home/alx/Cloud/dns/.venv3/lib/python3.6/site-packages/tensorboard/compat/tensorflow_stub/dtypes.py:541: FutureWarning: Passing (type, 1) or '1type' as a synonym of type is deprecated; in a future version of numpy, it will be understood as (type, (1,)) / '(1,)type'.\n",
      "  _np_qint8 = np.dtype([(\"qint8\", np.int8, 1)])\n",
      "/home/alx/Cloud/dns/.venv3/lib/python3.6/site-packages/tensorboard/compat/tensorflow_stub/dtypes.py:542: FutureWarning: Passing (type, 1) or '1type' as a synonym of type is deprecated; in a future version of numpy, it will be understood as (type, (1,)) / '(1,)type'.\n",
      "  _np_quint8 = np.dtype([(\"quint8\", np.uint8, 1)])\n",
      "/home/alx/Cloud/dns/.venv3/lib/python3.6/site-packages/tensorboard/compat/tensorflow_stub/dtypes.py:543: FutureWarning: Passing (type, 1) or '1type' as a synonym of type is deprecated; in a future version of numpy, it will be understood as (type, (1,)) / '(1,)type'.\n",
      "  _np_qint16 = np.dtype([(\"qint16\", np.int16, 1)])\n",
      "/home/alx/Cloud/dns/.venv3/lib/python3.6/site-packages/tensorboard/compat/tensorflow_stub/dtypes.py:544: FutureWarning: Passing (type, 1) or '1type' as a synonym of type is deprecated; in a future version of numpy, it will be understood as (type, (1,)) / '(1,)type'.\n",
      "  _np_quint16 = np.dtype([(\"quint16\", np.uint16, 1)])\n",
      "/home/alx/Cloud/dns/.venv3/lib/python3.6/site-packages/tensorboard/compat/tensorflow_stub/dtypes.py:545: FutureWarning: Passing (type, 1) or '1type' as a synonym of type is deprecated; in a future version of numpy, it will be understood as (type, (1,)) / '(1,)type'.\n",
      "  _np_qint32 = np.dtype([(\"qint32\", np.int32, 1)])\n",
      "/home/alx/Cloud/dns/.venv3/lib/python3.6/site-packages/tensorboard/compat/tensorflow_stub/dtypes.py:550: FutureWarning: Passing (type, 1) or '1type' as a synonym of type is deprecated; in a future version of numpy, it will be understood as (type, (1,)) / '(1,)type'.\n",
      "  np_resource = np.dtype([(\"resource\", np.ubyte, 1)])\n",
      "WARNING: Logging before flag parsing goes to stderr.\n",
      "W0819 15:57:45.088250 139833627752256 deprecation_wrapper.py:119] From /home/alx/Workspace/DeepPavlov/deeppavlov/models/elmo/bilm_model.py:23: The name tf.logging.set_verbosity is deprecated. Please use tf.compat.v1.logging.set_verbosity instead.\n",
      "\n",
      "W0819 15:57:45.088759 139833627752256 deprecation_wrapper.py:119] From /home/alx/Workspace/DeepPavlov/deeppavlov/models/elmo/bilm_model.py:23: The name tf.logging.INFO is deprecated. Please use tf.compat.v1.logging.INFO instead.\n",
      "\n",
      "W0819 15:57:45.098700 139833627752256 deprecation_wrapper.py:119] From /home/alx/Cloud/dns/.venv3/lib/python3.6/site-packages/tensorflow_hub/native_module.py:54: The name tf.GraphKeys is deprecated. Please use tf.compat.v1.GraphKeys instead.\n",
      "\n",
      "W0819 15:57:45.102169 139833627752256 deprecation_wrapper.py:119] From /home/alx/Workspace/DeepPavlov/deeppavlov/models/elmo/elmo.py:255: The name tf.set_random_seed is deprecated. Please use tf.compat.v1.set_random_seed instead.\n",
      "\n",
      "W0819 15:57:45.114979 139833627752256 deprecation_wrapper.py:119] From /home/alx/Workspace/DeepPavlov/deeppavlov/models/elmo/elmo.py:322: The name tf.get_variable is deprecated. Please use tf.compat.v1.get_variable instead.\n",
      "\n",
      "W0819 15:57:45.120225 139833627752256 deprecation_wrapper.py:119] From /home/alx/Workspace/DeepPavlov/deeppavlov/models/elmo/elmo.py:327: The name tf.train.AdagradOptimizer is deprecated. Please use tf.compat.v1.train.AdagradOptimizer instead.\n",
      "\n",
      "W0819 15:57:45.124109 139833627752256 deprecation_wrapper.py:119] From /home/alx/Workspace/DeepPavlov/deeppavlov/models/elmo/elmo.py:338: The name tf.variable_scope is deprecated. Please use tf.compat.v1.variable_scope instead.\n",
      "\n",
      "W0819 15:57:45.124948 139833627752256 deprecation_wrapper.py:119] From /home/alx/Workspace/DeepPavlov/deeppavlov/models/elmo/bilm_model.py:148: The name tf.placeholder is deprecated. Please use tf.compat.v1.placeholder instead.\n",
      "\n",
      "W0819 15:57:45.149299 139833627752256 deprecation_wrapper.py:119] From /home/alx/Workspace/DeepPavlov/deeppavlov/models/elmo/bilm_model.py:202: The name tf.nn.max_pool is deprecated. Please use tf.nn.max_pool2d instead.\n",
      "\n",
      "W0819 15:57:45.151252 139833627752256 deprecation.py:506] From /home/alx/Cloud/dns/.venv3/lib/python3.6/site-packages/tensorflow/python/util/dispatch.py:180: calling squeeze (from tensorflow.python.ops.array_ops) with squeeze_dims is deprecated and will be removed in a future version.\n",
      "Instructions for updating:\n",
      "Use the `axis` argument instead\n",
      "W0819 15:57:45.323803 139833627752256 deprecation.py:323] From /home/alx/Workspace/DeepPavlov/deeppavlov/models/elmo/bilm_model.py:354: LSTMCell.__init__ (from tensorflow.python.ops.rnn_cell_impl) is deprecated and will be removed in a future version.\n",
      "Instructions for updating:\n",
      "This class is equivalent as tf.keras.layers.LSTMCell, and will be replaced by that in Tensorflow 2.0.\n"
     ]
    },
    {
     "name": "stderr",
     "output_type": "stream",
     "text": [
      "W0819 15:57:45.324591 139833627752256 deprecation_wrapper.py:119] From /home/alx/Workspace/DeepPavlov/deeppavlov/models/elmo/bilm_model.py:372: The name tf.nn.rnn_cell.DropoutWrapper is deprecated. Please use tf.compat.v1.nn.rnn_cell.DropoutWrapper instead.\n",
      "\n",
      "W0819 15:57:45.326865 139833627752256 deprecation_wrapper.py:119] From /home/alx/Workspace/DeepPavlov/deeppavlov/models/elmo/bilm_model.py:368: The name tf.nn.rnn_cell.ResidualWrapper is deprecated. Please use tf.compat.v1.nn.rnn_cell.ResidualWrapper instead.\n",
      "\n",
      "W0819 15:57:45.329051 139833627752256 deprecation.py:323] From /home/alx/Workspace/DeepPavlov/deeppavlov/models/elmo/bilm_model.py:378: MultiRNNCell.__init__ (from tensorflow.python.ops.rnn_cell_impl) is deprecated and will be removed in a future version.\n",
      "Instructions for updating:\n",
      "This class is equivalent as tf.keras.layers.StackedRNNCells, and will be replaced by that in Tensorflow 2.0.\n",
      "W0819 15:57:45.362483 139833627752256 deprecation.py:323] From /home/alx/Workspace/DeepPavlov/deeppavlov/models/elmo/bilm_model.py:392: static_rnn (from tensorflow.python.ops.rnn) is deprecated and will be removed in a future version.\n",
      "Instructions for updating:\n",
      "Please use `keras.layers.RNN(cell, unroll=True)`, which is equivalent to this API\n",
      "W0819 15:57:45.509948 139833627752256 deprecation.py:506] From /home/alx/Cloud/dns/.venv3/lib/python3.6/site-packages/tensorflow/python/ops/init_ops.py:1251: calling VarianceScaling.__init__ (from tensorflow.python.ops.init_ops) with dtype is deprecated and will be removed in a future version.\n",
      "Instructions for updating:\n",
      "Call initializer instance with the dtype argument instead of passing it to the constructor\n",
      "W0819 15:57:45.516547 139833627752256 deprecation.py:506] From /home/alx/Cloud/dns/.venv3/lib/python3.6/site-packages/tensorflow/python/ops/rnn_cell_impl.py:961: calling Zeros.__init__ (from tensorflow.python.ops.init_ops) with dtype is deprecated and will be removed in a future version.\n",
      "Instructions for updating:\n",
      "Call initializer instance with the dtype argument instead of passing it to the constructor\n",
      "W0819 15:57:45.916036 139833627752256 deprecation.py:506] From /home/alx/Workspace/DeepPavlov/deeppavlov/models/elmo/bilm_model.py:405: calling dropout (from tensorflow.python.ops.nn_ops) with keep_prob is deprecated and will be removed in a future version.\n",
      "Instructions for updating:\n",
      "Please use `rate` instead of `keep_prob`. Rate should be set to `rate = 1 - keep_prob`.\n",
      "W0819 15:57:46.323317 139833627752256 deprecation.py:323] From /home/alx/Cloud/dns/.venv3/lib/python3.6/site-packages/tensorflow/python/ops/math_grad.py:1250: add_dispatch_support.<locals>.wrapper (from tensorflow.python.ops.array_ops) is deprecated and will be removed in a future version.\n",
      "Instructions for updating:\n",
      "Use tf.where in 2.0, which has the same broadcast rule as np.where\n",
      "W0819 15:57:46.916761 139833627752256 variables.py:2429] Variable += will be deprecated. Use variable.assign_add if you want assignment to the variable value or 'x = x + y' if you want a new python Tensor object.\n",
      "W0819 15:57:47.129225 139833627752256 deprecation_wrapper.py:119] From /home/alx/Workspace/DeepPavlov/deeppavlov/models/elmo/train_utils.py:149: The name tf.summary.scalar is deprecated. Please use tf.compat.v1.summary.scalar instead.\n",
      "\n",
      "W0819 15:57:47.389544 139833627752256 deprecation.py:506] From /home/alx/Cloud/dns/.venv3/lib/python3.6/site-packages/tensorflow/python/training/adagrad.py:76: calling Constant.__init__ (from tensorflow.python.ops.init_ops) with dtype is deprecated and will be removed in a future version.\n",
      "Instructions for updating:\n",
      "Call initializer instance with the dtype argument instead of passing it to the constructor\n",
      "W0819 15:57:56.077644 139833627752256 deprecation.py:323] From /home/alx/Workspace/DeepPavlov/deeppavlov/models/elmo/elmo.py:472: checkpoint_exists (from tensorflow.python.training.checkpoint_management) is deprecated and will be removed in a future version.\n",
      "Instructions for updating:\n",
      "Use standard file APIs to check for files with this prefix.\n",
      "2019-08-19 15:57:56.78 INFO in 'deeppavlov.models.elmo.elmo'['elmo'] at line 478: [A checkpoint not found in  /home/alx/.deeppavlov/models/elmo-1b-benchmark/saves/model]\n",
      "I0819 15:57:56.078218 139833627752256 elmo.py:478] [A checkpoint not found in  /home/alx/.deeppavlov/models/elmo-1b-benchmark/saves/model]\n",
      "2019-08-19 15:57:56.79 INFO in 'deeppavlov.models.elmo.elmo'['elmo'] at line 492: [saving model to /home/alx/.deeppavlov/models/elmo-1b-benchmark/saves/model]\n",
      "I0819 15:57:56.079032 139833627752256 elmo.py:492] [saving model to /home/alx/.deeppavlov/models/elmo-1b-benchmark/saves/model]\n",
      "W0819 15:57:56.079716 139833627752256 deprecation_wrapper.py:119] From /home/alx/Workspace/DeepPavlov/deeppavlov/models/elmo/elmo.py:494: The name tf.train.Saver is deprecated. Please use tf.compat.v1.train.Saver instead.\n",
      "\n",
      "W0819 15:58:03.292245 139833627752256 meta_graph.py:449] Issue encountered when serializing lstm_output_embeddings.\n",
      "Type is unsupported, or the types of the items don't match field type in CollectionDef. Note this is a warning and probably safe to ignore.\n",
      "'list' object has no attribute 'name'\n"
     ]
    }
   ],
   "source": [
    "import sys\n",
    "\n",
    "from deeppavlov import build_model, configs\n",
    "\n",
    "# CONFIG_PATH = configs.elmo.elmo_lm_ready4fine_tuning_ru_news\n",
    "# CONFIG_PATH = configs.elmo.elmo_lm_ready4fine_tuning_ru_news_simple\n",
    "CONFIG_PATH = configs.elmo.elmo_1b_benchmark\n",
    "\n",
    "model = build_model(CONFIG_PATH, download=True)\n"
   ]
  },
  {
   "cell_type": "code",
   "execution_count": 3,
   "metadata": {},
   "outputs": [
    {
     "ename": "RuntimeError",
     "evalue": "{'x_char_ids', 'y_token_ids'} are required to compute ['x_char_ids', 'y_token_ids'] but were not found in memory or inputs",
     "output_type": "error",
     "traceback": [
      "\u001b[0;31m---------------------------------------------------------------------------\u001b[0m",
      "\u001b[0;31mRuntimeError\u001b[0m                              Traceback (most recent call last)",
      "\u001b[0;32m<ipython-input-3-aa62118d4673>\u001b[0m in \u001b[0;36m<module>\u001b[0;34m\u001b[0m\n\u001b[0;32m----> 1\u001b[0;31m \u001b[0mmodel\u001b[0m\u001b[0;34m(\u001b[0m\u001b[0;34m\"Привет ватрушка\"\u001b[0m\u001b[0;34m)\u001b[0m\u001b[0;34m\u001b[0m\u001b[0;34m\u001b[0m\u001b[0m\n\u001b[0m",
      "\u001b[0;32m~/Workspace/DeepPavlov/deeppavlov/core/common/chainer.py\u001b[0m in \u001b[0;36m__call__\u001b[0;34m(self, *args)\u001b[0m\n\u001b[1;32m    203\u001b[0m \u001b[0;34m\u001b[0m\u001b[0m\n\u001b[1;32m    204\u001b[0m     \u001b[0;32mdef\u001b[0m \u001b[0m__call__\u001b[0m\u001b[0;34m(\u001b[0m\u001b[0mself\u001b[0m\u001b[0;34m,\u001b[0m \u001b[0;34m*\u001b[0m\u001b[0margs\u001b[0m\u001b[0;34m)\u001b[0m\u001b[0;34m:\u001b[0m\u001b[0;34m\u001b[0m\u001b[0;34m\u001b[0m\u001b[0m\n\u001b[0;32m--> 205\u001b[0;31m         \u001b[0;32mreturn\u001b[0m \u001b[0mself\u001b[0m\u001b[0;34m.\u001b[0m\u001b[0m_compute\u001b[0m\u001b[0;34m(\u001b[0m\u001b[0;34m*\u001b[0m\u001b[0margs\u001b[0m\u001b[0;34m,\u001b[0m \u001b[0mparam_names\u001b[0m\u001b[0;34m=\u001b[0m\u001b[0mself\u001b[0m\u001b[0;34m.\u001b[0m\u001b[0min_x\u001b[0m\u001b[0;34m,\u001b[0m \u001b[0mpipe\u001b[0m\u001b[0;34m=\u001b[0m\u001b[0mself\u001b[0m\u001b[0;34m.\u001b[0m\u001b[0mpipe\u001b[0m\u001b[0;34m,\u001b[0m \u001b[0mtargets\u001b[0m\u001b[0;34m=\u001b[0m\u001b[0mself\u001b[0m\u001b[0;34m.\u001b[0m\u001b[0mout_params\u001b[0m\u001b[0;34m)\u001b[0m\u001b[0;34m\u001b[0m\u001b[0;34m\u001b[0m\u001b[0m\n\u001b[0m\u001b[1;32m    206\u001b[0m \u001b[0;34m\u001b[0m\u001b[0m\n\u001b[1;32m    207\u001b[0m     \u001b[0;34m@\u001b[0m\u001b[0mstaticmethod\u001b[0m\u001b[0;34m\u001b[0m\u001b[0;34m\u001b[0m\u001b[0m\n",
      "\u001b[0;32m~/Workspace/DeepPavlov/deeppavlov/core/common/chainer.py\u001b[0m in \u001b[0;36m_compute\u001b[0;34m(param_names, pipe, targets, *args)\u001b[0m\n\u001b[1;32m    215\u001b[0m         \u001b[0mfinal_pipe\u001b[0m\u001b[0;34m.\u001b[0m\u001b[0mreverse\u001b[0m\u001b[0;34m(\u001b[0m\u001b[0;34m)\u001b[0m\u001b[0;34m\u001b[0m\u001b[0;34m\u001b[0m\u001b[0m\n\u001b[1;32m    216\u001b[0m         \u001b[0;32mif\u001b[0m \u001b[0;32mnot\u001b[0m \u001b[0mexpected\u001b[0m\u001b[0;34m.\u001b[0m\u001b[0missubset\u001b[0m\u001b[0;34m(\u001b[0m\u001b[0mparam_names\u001b[0m\u001b[0;34m)\u001b[0m\u001b[0;34m:\u001b[0m\u001b[0;34m\u001b[0m\u001b[0;34m\u001b[0m\u001b[0m\n\u001b[0;32m--> 217\u001b[0;31m             \u001b[0;32mraise\u001b[0m \u001b[0mRuntimeError\u001b[0m\u001b[0;34m(\u001b[0m\u001b[0;34mf'{expected} are required to compute {targets} but were not found in memory or inputs'\u001b[0m\u001b[0;34m)\u001b[0m\u001b[0;34m\u001b[0m\u001b[0;34m\u001b[0m\u001b[0m\n\u001b[0m\u001b[1;32m    218\u001b[0m         \u001b[0mpipe\u001b[0m \u001b[0;34m=\u001b[0m \u001b[0mfinal_pipe\u001b[0m\u001b[0;34m\u001b[0m\u001b[0;34m\u001b[0m\u001b[0m\n\u001b[1;32m    219\u001b[0m \u001b[0;34m\u001b[0m\u001b[0m\n",
      "\u001b[0;31mRuntimeError\u001b[0m: {'x_char_ids', 'y_token_ids'} are required to compute ['x_char_ids', 'y_token_ids'] but were not found in memory or inputs"
     ]
    }
   ],
   "source": [
    "model(\"Привет ватрушка\")"
   ]
  }
 ],
 "metadata": {
  "kernelspec": {
   "display_name": ".venv3",
   "language": "python",
   "name": ".venv3"
  },
  "language_info": {
   "codemirror_mode": {
    "name": "ipython",
    "version": 3
   },
   "file_extension": ".py",
   "mimetype": "text/x-python",
   "name": "python",
   "nbconvert_exporter": "python",
   "pygments_lexer": "ipython3",
   "version": "3.6.8"
  }
 },
 "nbformat": 4,
 "nbformat_minor": 2
}
