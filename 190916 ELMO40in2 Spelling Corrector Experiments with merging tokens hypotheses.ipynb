{
 "cells": [
  {
   "cell_type": "code",
   "execution_count": 1,
   "metadata": {},
   "outputs": [],
   "source": [
    "import pprint\n",
    "import numpy as np\n",
    "from spelling_correction_models.elmo_40in_spelling_corrector.elmo_40in2_spelling_corrector import ELMO40in2SpellingCorrector"
   ]
  },
  {
   "cell_type": "code",
   "execution_count": 2,
   "metadata": {},
   "outputs": [
    {
     "name": "stderr",
     "output_type": "stream",
     "text": [
      "Using TensorFlow backend.\n",
      "2019-09-16 11:36:15.75 WARNING in 'tensorflow'['deprecation_wrapper'] at line 119: From /home/alx/Cloud/dns/.venv3/lib/python3.6/site-packages/deeppavlov-0.1.6-py3.6.egg/deeppavlov/models/bidirectional_lms/elmo/utils.py:40: The name tf.ConfigProto is deprecated. Please use tf.compat.v1.ConfigProto instead.\n",
      "\n",
      "2019-09-16 11:36:15.76 WARNING in 'tensorflow'['deprecation_wrapper'] at line 119: From /home/alx/Cloud/dns/.venv3/lib/python3.6/site-packages/deeppavlov-0.1.6-py3.6.egg/deeppavlov/models/bidirectional_lms/elmo/utils.py:41: The name tf.Session is deprecated. Please use tf.compat.v1.Session instead.\n",
      "\n",
      "2019-09-16 11:36:15.99 WARNING in 'tensorflow'['deprecation_wrapper'] at line 119: From /home/alx/Cloud/dns/.venv3/lib/python3.6/site-packages/deeppavlov-0.1.6-py3.6.egg/deeppavlov/models/bidirectional_lms/elmo/utils.py:43: The name tf.variable_scope is deprecated. Please use tf.compat.v1.variable_scope instead.\n",
      "\n",
      "2019-09-16 11:36:15.101 WARNING in 'tensorflow'['deprecation_wrapper'] at line 119: From /home/alx/Cloud/dns/.venv3/lib/python3.6/site-packages/bilm/training.py:153: The name tf.placeholder is deprecated. Please use tf.compat.v1.placeholder instead.\n",
      "\n",
      "2019-09-16 11:36:15.125 WARNING in 'tensorflow'['deprecation_wrapper'] at line 119: From /home/alx/Cloud/dns/.venv3/lib/python3.6/site-packages/bilm/training.py:158: The name tf.get_variable is deprecated. Please use tf.compat.v1.get_variable instead.\n",
      "\n",
      "2019-09-16 11:36:15.165 WARNING in 'tensorflow'['deprecation_wrapper'] at line 119: From /home/alx/Cloud/dns/.venv3/lib/python3.6/site-packages/bilm/training.py:211: The name tf.nn.max_pool is deprecated. Please use tf.nn.max_pool2d instead.\n",
      "\n",
      "2019-09-16 11:36:15.167 WARNING in 'tensorflow'['deprecation'] at line 506: From /home/alx/Cloud/dns/.venv3/lib/python3.6/site-packages/tensorflow/python/util/dispatch.py:180: calling squeeze (from tensorflow.python.ops.array_ops) with squeeze_dims is deprecated and will be removed in a future version.\n",
      "Instructions for updating:\n",
      "Use the `axis` argument instead\n",
      "2019-09-16 11:36:15.319 WARNING in 'tensorflow'['deprecation'] at line 323: From /home/alx/Cloud/dns/.venv3/lib/python3.6/site-packages/bilm/training.py:372: LSTMCell.__init__ (from tensorflow.python.ops.rnn_cell_impl) is deprecated and will be removed in a future version.\n",
      "Instructions for updating:\n",
      "This class is equivalent as tf.keras.layers.LSTMCell, and will be replaced by that in Tensorflow 2.0.\n",
      "2019-09-16 11:36:15.322 WARNING in 'tensorflow'['deprecation_wrapper'] at line 119: From /home/alx/Cloud/dns/.venv3/lib/python3.6/site-packages/bilm/training.py:386: The name tf.nn.rnn_cell.ResidualWrapper is deprecated. Please use tf.compat.v1.nn.rnn_cell.ResidualWrapper instead.\n",
      "\n",
      "2019-09-16 11:36:15.323 WARNING in 'tensorflow'['deprecation'] at line 323: From /home/alx/Cloud/dns/.venv3/lib/python3.6/site-packages/bilm/training.py:396: MultiRNNCell.__init__ (from tensorflow.python.ops.rnn_cell_impl) is deprecated and will be removed in a future version.\n",
      "Instructions for updating:\n",
      "This class is equivalent as tf.keras.layers.StackedRNNCells, and will be replaced by that in Tensorflow 2.0.\n",
      "2019-09-16 11:36:15.345 WARNING in 'tensorflow'['deprecation'] at line 323: From /home/alx/Cloud/dns/.venv3/lib/python3.6/site-packages/bilm/training.py:410: static_rnn (from tensorflow.python.ops.rnn) is deprecated and will be removed in a future version.\n",
      "Instructions for updating:\n",
      "Please use `keras.layers.RNN(cell, unroll=True)`, which is equivalent to this API\n"
     ]
    },
    {
     "name": "stdout",
     "output_type": "stream",
     "text": [
      "USING SKIP CONNECTIONS\n"
     ]
    },
    {
     "name": "stderr",
     "output_type": "stream",
     "text": [
      "2019-09-16 11:36:15.558 WARNING in 'tensorflow'['deprecation'] at line 506: From /home/alx/Cloud/dns/.venv3/lib/python3.6/site-packages/tensorflow/python/ops/init_ops.py:1251: calling VarianceScaling.__init__ (from tensorflow.python.ops.init_ops) with dtype is deprecated and will be removed in a future version.\n",
      "Instructions for updating:\n",
      "Call initializer instance with the dtype argument instead of passing it to the constructor\n",
      "2019-09-16 11:36:15.568 WARNING in 'tensorflow'['deprecation'] at line 506: From /home/alx/Cloud/dns/.venv3/lib/python3.6/site-packages/tensorflow/python/ops/rnn_cell_impl.py:961: calling Zeros.__init__ (from tensorflow.python.ops.init_ops) with dtype is deprecated and will be removed in a future version.\n",
      "Instructions for updating:\n",
      "Call initializer instance with the dtype argument instead of passing it to the constructor\n",
      "2019-09-16 11:36:16.186 WARNING in 'tensorflow'['deprecation_wrapper'] at line 119: From /home/alx/Cloud/dns/.venv3/lib/python3.6/site-packages/deeppavlov-0.1.6-py3.6.egg/deeppavlov/models/bidirectional_lms/elmo/utils.py:52: The name tf.train.Saver is deprecated. Please use tf.compat.v1.train.Saver instead.\n",
      "\n",
      "2019-09-16 11:36:16.224 WARNING in 'tensorflow'['deprecation'] at line 323: From /home/alx/Cloud/dns/.venv3/lib/python3.6/site-packages/tensorflow/python/training/saver.py:1276: checkpoint_exists (from tensorflow.python.training.checkpoint_management) is deprecated and will be removed in a future version.\n",
      "Instructions for updating:\n",
      "Use standard file APIs to check for files with this prefix.\n",
      "2019-09-16 11:36:16.231 INFO in 'tensorflow'['saver'] at line 1280: Restoring parameters from /home/alx/Cloud/spell_corr/py_spelling_corrector/bidirectional_lms/elmo_ru_news/model.ckpt-1327437\n"
     ]
    }
   ],
   "source": [
    "elmo40in = ELMO40in2SpellingCorrector()"
   ]
  },
  {
   "cell_type": "code",
   "execution_count": 3,
   "metadata": {},
   "outputs": [
    {
     "name": "stdout",
     "output_type": "stream",
     "text": [
      "Keke!\n"
     ]
    }
   ],
   "source": [
    "print(\"Keke!\")"
   ]
  },
  {
   "cell_type": "code",
   "execution_count": 11,
   "metadata": {},
   "outputs": [],
   "source": [
    "sentence = \"мамо мы ла рабу\""
   ]
  },
  {
   "cell_type": "code",
   "execution_count": 4,
   "metadata": {},
   "outputs": [],
   "source": [
    "\n",
    "preprocessed_sentence = elmo40in.preprocess_sentence(sentence)\n",
    "\n",
    "# analyse sentence\n",
    "analysis_dict = elmo40in.elmo_analysis_with_probable_candidates_reduction_dict_out(preprocessed_sentence)\n"
   ]
  },
  {
   "cell_type": "code",
   "execution_count": 5,
   "metadata": {},
   "outputs": [
    {
     "data": {
      "text/plain": [
       "{'input_sentence': 'мамо мыла рабу',\n",
       " 'tokenized_input_sentence': ['<S>', 'мамо', 'мыла', 'рабу', '</S>'],\n",
       " 'word_substitutions_candidates': [{'tok_idx': 0, 'top_k_candidates': []},\n",
       "  {'tok_idx': 1,\n",
       "   'top_k_candidates': [{'advantage': 3.552713678800501e-15,\n",
       "     'token_str': 'мамо'},\n",
       "    {'advantage': 2.0820875069057756, 'token_str': 'мам'},\n",
       "    {'advantage': 4.463778470237905, 'token_str': 'мама'},\n",
       "    {'advantage': 0.9131813802205251, 'token_str': 'маме'},\n",
       "    {'advantage': 2.373935833955848, 'token_str': 'мами'},\n",
       "    {'advantage': 2.249980042407339, 'token_str': 'маму'},\n",
       "    {'advantage': 5.783863086895597, 'token_str': 'мало'},\n",
       "    {'advantage': 6.4408864593551645, 'token_str': 'мимо'}]},\n",
       "  {'tok_idx': 2,\n",
       "   'top_k_candidates': [{'advantage': 0.0, 'token_str': 'мыла'},\n",
       "    {'advantage': 4.7868603627330195, 'token_str': 'мала'},\n",
       "    {'advantage': 0.10490315948264595, 'token_str': 'мила'},\n",
       "    {'advantage': 7.0748367144590905, 'token_str': 'была'}]},\n",
       "  {'tok_idx': 3,\n",
       "   'top_k_candidates': [{'advantage': 3.552713678800501e-15,\n",
       "     'token_str': 'рабу'},\n",
       "    {'advantage': 0.9211664144261462, 'token_str': 'раб'},\n",
       "    {'advantage': 0.8205528188258064, 'token_str': 'раба'},\n",
       "    {'advantage': 0.019004836734517028, 'token_str': 'рабе'},\n",
       "    {'advantage': 1.7920140965872307, 'token_str': 'раби'},\n",
       "    {'advantage': 0.7834959453859902, 'token_str': 'рабы'},\n",
       "    {'advantage': 2.1126632535752954, 'token_str': 'рагу'},\n",
       "    {'advantage': 1.3696174954082068, 'token_str': 'разу'},\n",
       "    {'advantage': 2.5185952510902894, 'token_str': 'раму'},\n",
       "    {'advantage': 4.893460319886675, 'token_str': 'рану'},\n",
       "    {'advantage': 5.37990389481039, 'token_str': 'рыбу'},\n",
       "    {'advantage': 4.0623040034847016, 'token_str': 'бабу'},\n",
       "    {'advantage': 0.34060960429953724, 'token_str': 'жабу'}]},\n",
       "  {'tok_idx': 4,\n",
       "   'top_k_candidates': [{'advantage': 0.0, 'token_str': '</S>'}]}]}"
      ]
     },
     "execution_count": 5,
     "metadata": {},
     "output_type": "execute_result"
    }
   ],
   "source": [
    "analysis_dict"
   ]
  },
  {
   "cell_type": "code",
   "execution_count": 12,
   "metadata": {},
   "outputs": [
    {
     "data": {
      "text/plain": [
       "'мамо мы ла рабу'"
      ]
     },
     "execution_count": 12,
     "metadata": {},
     "output_type": "execute_result"
    }
   ],
   "source": [
    "preprocessed_sentence = elmo40in.preprocess_sentence(sentence)\n",
    "preprocessed_sentence"
   ]
  },
  {
   "cell_type": "code",
   "execution_count": 13,
   "metadata": {},
   "outputs": [
    {
     "data": {
      "text/plain": [
       "{'input_sentence': 'мамо мы ла рабу',\n",
       " 'tokenized_input_sentence': ['<S>', 'мамо', 'мы', 'ла', 'рабу', '</S>'],\n",
       " 'word_substitutions_candidates': [{'tok_idx': 0, 'top_k_candidates': []},\n",
       "  {'tok_idx': 1,\n",
       "   'top_k_candidates': [{'advantage': 2.1596641778410888, 'token_str': 'мама'},\n",
       "    {'advantage': 0.4240779494838236, 'token_str': 'маме'},\n",
       "    {'advantage': 3.333476976426926, 'token_str': 'мало'},\n",
       "    {'advantage': 1.5434217294340975, 'token_str': 'мимо'}]},\n",
       "  {'tok_idx': 2, 'top_k_candidates': [{'advantage': 0.0, 'token_str': 'мы'}]},\n",
       "  {'tok_idx': 3,\n",
       "   'top_k_candidates': [{'advantage': 0.0, 'token_str': 'ла'},\n",
       "    {'advantage': 2.7464676138236612, 'token_str': 'л'},\n",
       "    {'advantage': 10.751412358625787, 'token_str': 'ли'},\n",
       "    {'advantage': 0.3218392390949738, 'token_str': 'ло'},\n",
       "    {'advantage': 3.9175642765892817, 'token_str': 'ль'},\n",
       "    {'advantage': 1.4709443600479428, 'token_str': 'ля'},\n",
       "    {'advantage': 1.0281533400844953, 'token_str': 'лаю'},\n",
       "    {'advantage': 12.957867522911119, 'token_str': 'а'},\n",
       "    {'advantage': 2.9247016362381775, 'token_str': 'ва'},\n",
       "    {'advantage': 10.550308180853799, 'token_str': 'да'},\n",
       "    {'advantage': 15.869850141348262, 'token_str': 'за'},\n",
       "    {'advantage': 5.019776267662035, 'token_str': 'ка'},\n",
       "    {'advantage': 2.0239782620795594, 'token_str': 'ма'},\n",
       "    {'advantage': 18.185518278953637, 'token_str': 'на'},\n",
       "    {'advantage': 3.262215552636123, 'token_str': 'та'},\n",
       "    {'advantage': 2.407977983402745, 'token_str': 'ела'},\n",
       "    {'advantage': 5.1705512040243775, 'token_str': 'зла'},\n",
       "    {'advantage': 5.334168389176092, 'token_str': 'шла'}]},\n",
       "  {'tok_idx': 4,\n",
       "   'top_k_candidates': [{'advantage': 3.552713678800501e-15,\n",
       "     'token_str': 'рабу'},\n",
       "    {'advantage': 0.831395221872608, 'token_str': 'раб'},\n",
       "    {'advantage': 2.335400657988913, 'token_str': 'раба'},\n",
       "    {'advantage': 3.1986342951040747, 'token_str': 'рабы'},\n",
       "    {'advantage': 2.679587568215158, 'token_str': 'разу'},\n",
       "    {'advantage': 2.143725453317991, 'token_str': 'рыбу'},\n",
       "    {'advantage': 2.569942133660188, 'token_str': 'бабу'}]},\n",
       "  {'tok_idx': 5,\n",
       "   'top_k_candidates': [{'advantage': 0.0, 'token_str': '</S>'}]}]}"
      ]
     },
     "execution_count": 13,
     "metadata": {},
     "output_type": "execute_result"
    }
   ],
   "source": [
    "analysis_dict = elmo40in.elmo_analysis_with_probable_candidates_reduction_dict_out(preprocessed_sentence)\n",
    "analysis_dict"
   ]
  },
  {
   "cell_type": "code",
   "execution_count": 14,
   "metadata": {},
   "outputs": [
    {
     "name": "stdout",
     "output_type": "stream",
     "text": [
      "Merged TokenHypothesis is in dictionary!\n"
     ]
    },
    {
     "data": {
      "text/plain": [
       "[{'tok_idx': (2, 3),\n",
       "  'tok_idx_start': 2,\n",
       "  'tok_idx_fin': 3,\n",
       "  'top_k_candidates': [{'token_str': 'мыла',\n",
       "    'token_merges': 1,\n",
       "    'error_score': -4.0}]}]"
      ]
     },
     "execution_count": 14,
     "metadata": {},
     "output_type": "execute_result"
    }
   ],
   "source": [
    "merged_tokens_hypotheses_dict = elmo40in.generate_Nto1_hypotheses(analysis_dict['tokenized_input_sentence'])\n",
    "merged_tokens_hypotheses_dict"
   ]
  },
  {
   "cell_type": "code",
   "execution_count": 15,
   "metadata": {},
   "outputs": [
    {
     "data": {
      "text/plain": [
       "[{'tok_idx': (2, 3),\n",
       "  'tok_idx_start': 2,\n",
       "  'tok_idx_fin': 3,\n",
       "  'top_k_candidates': [{'token_str': 'мыла',\n",
       "    'token_merges': 1,\n",
       "    'error_score': -4.0}]}]"
      ]
     },
     "execution_count": 15,
     "metadata": {},
     "output_type": "execute_result"
    }
   ],
   "source": [
    "merged_tokens_hypotheses_dict"
   ]
  },
  {
   "cell_type": "code",
   "execution_count": 18,
   "metadata": {},
   "outputs": [],
   "source": [
    "analysis_dict['word_substitutions_candidates'] += merged_tokens_hypotheses_dict"
   ]
  },
  {
   "cell_type": "code",
   "execution_count": 19,
   "metadata": {},
   "outputs": [
    {
     "data": {
      "text/plain": [
       "{'input_sentence': 'мамо мы ла рабу',\n",
       " 'tokenized_input_sentence': ['<S>', 'мамо', 'мы', 'ла', 'рабу', '</S>'],\n",
       " 'word_substitutions_candidates': [{'tok_idx': 0, 'top_k_candidates': []},\n",
       "  {'tok_idx': 1,\n",
       "   'top_k_candidates': [{'advantage': 2.1596641778410888, 'token_str': 'мама'},\n",
       "    {'advantage': 0.4240779494838236, 'token_str': 'маме'},\n",
       "    {'advantage': 3.333476976426926, 'token_str': 'мало'},\n",
       "    {'advantage': 1.5434217294340975, 'token_str': 'мимо'}]},\n",
       "  {'tok_idx': 2, 'top_k_candidates': [{'advantage': 0.0, 'token_str': 'мы'}]},\n",
       "  {'tok_idx': 3,\n",
       "   'top_k_candidates': [{'advantage': 0.0, 'token_str': 'ла'},\n",
       "    {'advantage': 2.7464676138236612, 'token_str': 'л'},\n",
       "    {'advantage': 10.751412358625787, 'token_str': 'ли'},\n",
       "    {'advantage': 0.3218392390949738, 'token_str': 'ло'},\n",
       "    {'advantage': 3.9175642765892817, 'token_str': 'ль'},\n",
       "    {'advantage': 1.4709443600479428, 'token_str': 'ля'},\n",
       "    {'advantage': 1.0281533400844953, 'token_str': 'лаю'},\n",
       "    {'advantage': 12.957867522911119, 'token_str': 'а'},\n",
       "    {'advantage': 2.9247016362381775, 'token_str': 'ва'},\n",
       "    {'advantage': 10.550308180853799, 'token_str': 'да'},\n",
       "    {'advantage': 15.869850141348262, 'token_str': 'за'},\n",
       "    {'advantage': 5.019776267662035, 'token_str': 'ка'},\n",
       "    {'advantage': 2.0239782620795594, 'token_str': 'ма'},\n",
       "    {'advantage': 18.185518278953637, 'token_str': 'на'},\n",
       "    {'advantage': 3.262215552636123, 'token_str': 'та'},\n",
       "    {'advantage': 2.407977983402745, 'token_str': 'ела'},\n",
       "    {'advantage': 5.1705512040243775, 'token_str': 'зла'},\n",
       "    {'advantage': 5.334168389176092, 'token_str': 'шла'}]},\n",
       "  {'tok_idx': 4,\n",
       "   'top_k_candidates': [{'advantage': 3.552713678800501e-15,\n",
       "     'token_str': 'рабу'},\n",
       "    {'advantage': 0.831395221872608, 'token_str': 'раб'},\n",
       "    {'advantage': 2.335400657988913, 'token_str': 'раба'},\n",
       "    {'advantage': 3.1986342951040747, 'token_str': 'рабы'},\n",
       "    {'advantage': 2.679587568215158, 'token_str': 'разу'},\n",
       "    {'advantage': 2.143725453317991, 'token_str': 'рыбу'},\n",
       "    {'advantage': 2.569942133660188, 'token_str': 'бабу'}]},\n",
       "  {'tok_idx': 5,\n",
       "   'top_k_candidates': [{'advantage': 0.0, 'token_str': '</S>'}]},\n",
       "  {'tok_idx': (2, 3),\n",
       "   'tok_idx_start': 2,\n",
       "   'tok_idx_fin': 3,\n",
       "   'top_k_candidates': [{'token_str': 'мыла',\n",
       "     'token_merges': 1,\n",
       "     'error_score': -4.0}]}]}"
      ]
     },
     "execution_count": 19,
     "metadata": {},
     "output_type": "execute_result"
    }
   ],
   "source": [
    "analysis_dict"
   ]
  },
  {
   "cell_type": "code",
   "execution_count": 20,
   "metadata": {},
   "outputs": [],
   "source": [
    "# tok_wrapped = elmo40in.lm.tokenize_sentence(sentence)\n",
    "elmo_data = elmo40in.lm.analyze_sentence(sentence)"
   ]
  },
  {
   "cell_type": "code",
   "execution_count": 22,
   "metadata": {},
   "outputs": [
    {
     "data": {
      "text/plain": [
       "(6, 2, 1000000)"
      ]
     },
     "execution_count": 22,
     "metadata": {},
     "output_type": "execute_result"
    }
   ],
   "source": [
    "elmo_data.shape"
   ]
  },
  {
   "cell_type": "code",
   "execution_count": null,
   "metadata": {},
   "outputs": [],
   "source": []
  },
  {
   "cell_type": "code",
   "execution_count": 33,
   "metadata": {},
   "outputs": [
    {
     "data": {
      "text/plain": [
       "array([[-7.92032719, -6.77204551, -8.26838952, -8.45183364, -6.13652221,\n",
       "        -5.6420348 , -7.97867744, -8.19324398, -7.68853473, -7.93100755],\n",
       "       [-6.04105583, -7.46548198, -8.14114465, -7.89229064, -7.73515162,\n",
       "        -6.75132372, -6.71090184, -7.9897743 , -7.65885885, -8.84081382]])"
      ]
     },
     "execution_count": 33,
     "metadata": {},
     "output_type": "execute_result"
    }
   ],
   "source": [
    "# estimate score of the merged token\n",
    "# {'tok_idx': (2, 3),\n",
    "#    'tok_idx_start': 2,\n",
    "#    'tok_idx_fin': 3,\n",
    "#    'top_k_candidates': [{'token_str': 'мыла',\n",
    "#      'token_merges': 1,\n",
    "#      'error_score': -4.0}]}]}\n",
    "\n",
    "np.log10(elmo_data[1, :, 49657:49667])"
   ]
  },
  {
   "cell_type": "code",
   "execution_count": 25,
   "metadata": {},
   "outputs": [],
   "source": [
    "в_индкс, неизв = elmo40in.lm.get_word_idx_or_unk(\"мыла\")"
   ]
  },
  {
   "cell_type": "code",
   "execution_count": 26,
   "metadata": {},
   "outputs": [
    {
     "data": {
      "text/plain": [
       "(49657, False)"
      ]
     },
     "execution_count": 26,
     "metadata": {},
     "output_type": "execute_result"
    }
   ],
   "source": [
    "в_индкс, неизв"
   ]
  },
  {
   "cell_type": "code",
   "execution_count": null,
   "metadata": {},
   "outputs": [],
   "source": []
  }
 ],
 "metadata": {
  "kernelspec": {
   "display_name": ".venv3",
   "language": "python",
   "name": ".venv3"
  },
  "language_info": {
   "codemirror_mode": {
    "name": "ipython",
    "version": 3
   },
   "file_extension": ".py",
   "mimetype": "text/x-python",
   "name": "python",
   "nbconvert_exporter": "python",
   "pygments_lexer": "ipython3",
   "version": "3.6.8"
  }
 },
 "nbformat": 4,
 "nbformat_minor": 2
}
