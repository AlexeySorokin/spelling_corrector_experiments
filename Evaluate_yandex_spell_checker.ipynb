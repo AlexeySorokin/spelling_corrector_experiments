{
 "cells": [
  {
   "cell_type": "code",
   "execution_count": 1,
   "metadata": {},
   "outputs": [
    {
     "name": "stderr",
     "output_type": "stream",
     "text": [
      "/home/azat/anaconda3/envs/spell/lib/python3.7/importlib/_bootstrap.py:219: RuntimeWarning: numpy.ufunc size changed, may indicate binary incompatibility. Expected 216, got 192\n",
      "  return f(*args, **kwds)\n"
     ]
    }
   ],
   "source": [
    "import pandas as pd\n",
    "from evaluate import evaluate_spelling_corrector"
   ]
  },
  {
   "cell_type": "code",
   "execution_count": 2,
   "metadata": {},
   "outputs": [
    {
     "data": {
      "text/html": [
       "<div>\n",
       "<style scoped>\n",
       "    .dataframe tbody tr th:only-of-type {\n",
       "        vertical-align: middle;\n",
       "    }\n",
       "\n",
       "    .dataframe tbody tr th {\n",
       "        vertical-align: top;\n",
       "    }\n",
       "\n",
       "    .dataframe thead th {\n",
       "        text-align: right;\n",
       "    }\n",
       "</style>\n",
       "<table border=\"1\" class=\"dataframe\">\n",
       "  <thead>\n",
       "    <tr style=\"text-align: right;\">\n",
       "      <th></th>\n",
       "      <th>Unnamed: 0</th>\n",
       "      <th>text_original</th>\n",
       "      <th>text_spellchecked</th>\n",
       "      <th>is_in_voc</th>\n",
       "      <th>from</th>\n",
       "      <th>ya_not_corrected</th>\n",
       "    </tr>\n",
       "  </thead>\n",
       "  <tbody>\n",
       "    <tr>\n",
       "      <th>0</th>\n",
       "      <td>0</td>\n",
       "      <td>😉 Вам открытка —-&gt;  ❤ http://vk.com/app2175066 ❤</td>\n",
       "      <td>😉 Вам открытка —-&gt;  ❤ http://vk.com/app2175066 ❤</td>\n",
       "      <td>True</td>\n",
       "      <td>vk_random_users</td>\n",
       "      <td>True</td>\n",
       "    </tr>\n",
       "    <tr>\n",
       "      <th>1</th>\n",
       "      <td>1</td>\n",
       "      <td>NaN</td>\n",
       "      <td>NaN</td>\n",
       "      <td>False</td>\n",
       "      <td>vk_random_users</td>\n",
       "      <td>False</td>\n",
       "    </tr>\n",
       "    <tr>\n",
       "      <th>2</th>\n",
       "      <td>2</td>\n",
       "      <td>С Новым годом С наступающим Год лошади 2014 По...</td>\n",
       "      <td>С Новым годом С наступающим Год лошади 2014 По...</td>\n",
       "      <td>True</td>\n",
       "      <td>vk_random_users</td>\n",
       "      <td>True</td>\n",
       "    </tr>\n",
       "    <tr>\n",
       "      <th>3</th>\n",
       "      <td>3</td>\n",
       "      <td>Супер!!!!молодцы!! Поздравляю Вас!!!! Мир вам ...</td>\n",
       "      <td>Супер!!!!молодцы!! Поздравляю Вас!!!! Мир вам ...</td>\n",
       "      <td>True</td>\n",
       "      <td>vk_random_users</td>\n",
       "      <td>True</td>\n",
       "    </tr>\n",
       "    <tr>\n",
       "      <th>4</th>\n",
       "      <td>4</td>\n",
       "      <td>как я провел лето</td>\n",
       "      <td>как я провел лето</td>\n",
       "      <td>True</td>\n",
       "      <td>vk_random_users</td>\n",
       "      <td>True</td>\n",
       "    </tr>\n",
       "  </tbody>\n",
       "</table>\n",
       "</div>"
      ],
      "text/plain": [
       "   Unnamed: 0                                      text_original  \\\n",
       "0           0   😉 Вам открытка —->  ❤ http://vk.com/app2175066 ❤   \n",
       "1           1                                                NaN   \n",
       "2           2  С Новым годом С наступающим Год лошади 2014 По...   \n",
       "3           3  Супер!!!!молодцы!! Поздравляю Вас!!!! Мир вам ...   \n",
       "4           4                                  как я провел лето   \n",
       "\n",
       "                                   text_spellchecked  is_in_voc  \\\n",
       "0   😉 Вам открытка —->  ❤ http://vk.com/app2175066 ❤       True   \n",
       "1                                                NaN      False   \n",
       "2  С Новым годом С наступающим Год лошади 2014 По...       True   \n",
       "3  Супер!!!!молодцы!! Поздравляю Вас!!!! Мир вам ...       True   \n",
       "4                                  как я провел лето       True   \n",
       "\n",
       "              from  ya_not_corrected  \n",
       "0  vk_random_users              True  \n",
       "1  vk_random_users             False  \n",
       "2  vk_random_users              True  \n",
       "3  vk_random_users              True  \n",
       "4  vk_random_users              True  "
      ]
     },
     "execution_count": 2,
     "metadata": {},
     "output_type": "execute_result"
    }
   ],
   "source": [
    "data = pd.read_csv('./spell_checker_data/spell_checker_data.csv')\n",
    "data.head()"
   ]
  },
  {
   "cell_type": "code",
   "execution_count": 3,
   "metadata": {},
   "outputs": [],
   "source": [
    "with open('./data/dialog16/true_dialog_testset.txt') as f:\n",
    "    golden_lines = f.readlines()\n",
    "    golden_lines = [line.strip() for line in golden_lines]"
   ]
  },
  {
   "cell_type": "code",
   "execution_count": 4,
   "metadata": {},
   "outputs": [],
   "source": [
    "erroneus_lines = data['text_original']\n",
    "hypotheses = data['text_spellchecked']"
   ]
  },
  {
   "cell_type": "markdown",
   "metadata": {},
   "source": [
    "# Evaluate on test subDataset"
   ]
  },
  {
   "cell_type": "code",
   "execution_count": 8,
   "metadata": {},
   "outputs": [
    {
     "name": "stdout",
     "output_type": "stream",
     "text": [
      "😉 Вам открытка —->  ❤ http://vk.com/app2175066 ❤\n",
      "nan\n"
     ]
    },
    {
     "ename": "AttributeError",
     "evalue": "'float' object has no attribute 'split'",
     "output_type": "error",
     "traceback": [
      "\u001b[0;31m---------------------------------------------------------------------------\u001b[0m",
      "\u001b[0;31mAttributeError\u001b[0m                            Traceback (most recent call last)",
      "\u001b[0;32m<ipython-input-8-b0f657f9d337>\u001b[0m in \u001b[0;36m<module>\u001b[0;34m\u001b[0m\n\u001b[1;32m      6\u001b[0m     \u001b[0;32min\u001b[0m \u001b[0mzip\u001b[0m\u001b[0;34m(\u001b[0m\u001b[0mgolden_lines\u001b[0m\u001b[0;34m,\u001b[0m \u001b[0merroneus_lines\u001b[0m\u001b[0;34m,\u001b[0m \u001b[0mhypotheses\u001b[0m\u001b[0;34m)\u001b[0m\u001b[0;34m:\u001b[0m\u001b[0;34m\u001b[0m\u001b[0;34m\u001b[0m\u001b[0m\n\u001b[1;32m      7\u001b[0m         \u001b[0mprint\u001b[0m\u001b[0;34m(\u001b[0m\u001b[0merroneus_line\u001b[0m\u001b[0;34m)\u001b[0m\u001b[0;34m\u001b[0m\u001b[0;34m\u001b[0m\u001b[0m\n\u001b[0;32m----> 8\u001b[0;31m         \u001b[0merr_toks\u001b[0m \u001b[0;34m=\u001b[0m \u001b[0merroneus_line\u001b[0m\u001b[0;34m.\u001b[0m\u001b[0msplit\u001b[0m\u001b[0;34m(\u001b[0m\u001b[0;34m)\u001b[0m\u001b[0;34m\u001b[0m\u001b[0;34m\u001b[0m\u001b[0m\n\u001b[0m\u001b[1;32m      9\u001b[0m         \u001b[0mgold_toks\u001b[0m \u001b[0;34m=\u001b[0m \u001b[0mgolden_line\u001b[0m\u001b[0;34m.\u001b[0m\u001b[0msplit\u001b[0m\u001b[0;34m(\u001b[0m\u001b[0;34m)\u001b[0m\u001b[0;34m\u001b[0m\u001b[0;34m\u001b[0m\u001b[0m\n\u001b[1;32m     10\u001b[0m         \u001b[0;32mif\u001b[0m \u001b[0mlen\u001b[0m\u001b[0;34m(\u001b[0m\u001b[0merr_toks\u001b[0m\u001b[0;34m)\u001b[0m \u001b[0;34m==\u001b[0m \u001b[0mlen\u001b[0m\u001b[0;34m(\u001b[0m\u001b[0mgold_toks\u001b[0m\u001b[0;34m)\u001b[0m\u001b[0;34m:\u001b[0m\u001b[0;34m\u001b[0m\u001b[0;34m\u001b[0m\u001b[0m\n",
      "\u001b[0;31mAttributeError\u001b[0m: 'float' object has no attribute 'split'"
     ]
    }
   ],
   "source": [
    "filtered_hypotheses = []\n",
    "filtered_erroneous_lines = []\n",
    "filtered_golden_lines = []\n",
    "\n",
    "for golden_line, erroneus_line, hypothese\\\n",
    "    in zip(golden_lines, erroneus_lines, hypotheses):\n",
    "        print(erroneus_line)\n",
    "        err_toks = erroneus_line.split()\n",
    "        gold_toks = golden_line.split()\n",
    "        if len(err_toks) == len(gold_toks):\n",
    "            filtered_erroneous_lines.append(erroneus_line)\n",
    "            filtered_golden_lines.append(golden_line)\n",
    "            filtered_hypotheses.append(hypothese)\n",
    "\n",
    "results_yandex = evaluate_spelling_corrector(filtered_erroneous_lines,\n",
    "                                             filtered_golden_lines,\n",
    "                                             filtered_hypotheses)\n",
    "print(results_yandex['precision'])\n",
    "print(results_yandex['recall'])\n",
    "print(results_yandex['f_measure'])"
   ]
  },
  {
   "cell_type": "code",
   "execution_count": null,
   "metadata": {},
   "outputs": [],
   "source": []
  }
 ],
 "metadata": {
  "kernelspec": {
   "display_name": "Python 3",
   "language": "python",
   "name": "python3"
  },
  "language_info": {
   "codemirror_mode": {
    "name": "ipython",
    "version": 3
   },
   "file_extension": ".py",
   "mimetype": "text/x-python",
   "name": "python",
   "nbconvert_exporter": "python",
   "pygments_lexer": "ipython3",
   "version": "3.7.4"
  }
 },
 "nbformat": 4,
 "nbformat_minor": 2
}
