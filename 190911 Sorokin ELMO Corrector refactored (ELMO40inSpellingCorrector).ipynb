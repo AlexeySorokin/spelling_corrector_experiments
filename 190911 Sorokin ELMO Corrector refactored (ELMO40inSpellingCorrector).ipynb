{
 "cells": [
  {
   "cell_type": "code",
   "execution_count": 6,
   "metadata": {},
   "outputs": [],
   "source": [
    "import pprint\n",
    "from spelling_correction_models.elmo_40in_spelling_corrector.elmo_40in_spelling_corrector import ELMO40inSpellingCorrector"
   ]
  },
  {
   "cell_type": "code",
   "execution_count": 2,
   "metadata": {},
   "outputs": [
    {
     "name": "stderr",
     "output_type": "stream",
     "text": [
      "Using TensorFlow backend.\n",
      "2019-09-11 16:41:22.489 WARNING in 'tensorflow'['deprecation_wrapper'] at line 119: From /home/alx/Cloud/dns/.venv3/lib/python3.6/site-packages/deeppavlov-0.1.6-py3.6.egg/deeppavlov/models/bidirectional_lms/elmo/utils.py:40: The name tf.ConfigProto is deprecated. Please use tf.compat.v1.ConfigProto instead.\n",
      "\n",
      "2019-09-11 16:41:22.489 WARNING in 'tensorflow'['deprecation_wrapper'] at line 119: From /home/alx/Cloud/dns/.venv3/lib/python3.6/site-packages/deeppavlov-0.1.6-py3.6.egg/deeppavlov/models/bidirectional_lms/elmo/utils.py:41: The name tf.Session is deprecated. Please use tf.compat.v1.Session instead.\n",
      "\n",
      "2019-09-11 16:41:22.524 WARNING in 'tensorflow'['deprecation_wrapper'] at line 119: From /home/alx/Cloud/dns/.venv3/lib/python3.6/site-packages/deeppavlov-0.1.6-py3.6.egg/deeppavlov/models/bidirectional_lms/elmo/utils.py:43: The name tf.variable_scope is deprecated. Please use tf.compat.v1.variable_scope instead.\n",
      "\n",
      "2019-09-11 16:41:22.525 WARNING in 'tensorflow'['deprecation_wrapper'] at line 119: From /home/alx/Cloud/dns/.venv3/lib/python3.6/site-packages/bilm/training.py:153: The name tf.placeholder is deprecated. Please use tf.compat.v1.placeholder instead.\n",
      "\n",
      "2019-09-11 16:41:22.544 WARNING in 'tensorflow'['deprecation_wrapper'] at line 119: From /home/alx/Cloud/dns/.venv3/lib/python3.6/site-packages/bilm/training.py:158: The name tf.get_variable is deprecated. Please use tf.compat.v1.get_variable instead.\n",
      "\n",
      "2019-09-11 16:41:22.582 WARNING in 'tensorflow'['deprecation_wrapper'] at line 119: From /home/alx/Cloud/dns/.venv3/lib/python3.6/site-packages/bilm/training.py:211: The name tf.nn.max_pool is deprecated. Please use tf.nn.max_pool2d instead.\n",
      "\n",
      "2019-09-11 16:41:22.584 WARNING in 'tensorflow'['deprecation'] at line 506: From /home/alx/Cloud/dns/.venv3/lib/python3.6/site-packages/tensorflow/python/util/dispatch.py:180: calling squeeze (from tensorflow.python.ops.array_ops) with squeeze_dims is deprecated and will be removed in a future version.\n",
      "Instructions for updating:\n",
      "Use the `axis` argument instead\n",
      "2019-09-11 16:41:22.770 WARNING in 'tensorflow'['deprecation'] at line 323: From /home/alx/Cloud/dns/.venv3/lib/python3.6/site-packages/bilm/training.py:372: LSTMCell.__init__ (from tensorflow.python.ops.rnn_cell_impl) is deprecated and will be removed in a future version.\n",
      "Instructions for updating:\n",
      "This class is equivalent as tf.keras.layers.LSTMCell, and will be replaced by that in Tensorflow 2.0.\n",
      "2019-09-11 16:41:22.771 WARNING in 'tensorflow'['deprecation_wrapper'] at line 119: From /home/alx/Cloud/dns/.venv3/lib/python3.6/site-packages/bilm/training.py:386: The name tf.nn.rnn_cell.ResidualWrapper is deprecated. Please use tf.compat.v1.nn.rnn_cell.ResidualWrapper instead.\n",
      "\n",
      "2019-09-11 16:41:22.771 WARNING in 'tensorflow'['deprecation'] at line 323: From /home/alx/Cloud/dns/.venv3/lib/python3.6/site-packages/bilm/training.py:396: MultiRNNCell.__init__ (from tensorflow.python.ops.rnn_cell_impl) is deprecated and will be removed in a future version.\n",
      "Instructions for updating:\n",
      "This class is equivalent as tf.keras.layers.StackedRNNCells, and will be replaced by that in Tensorflow 2.0.\n",
      "2019-09-11 16:41:22.791 WARNING in 'tensorflow'['deprecation'] at line 323: From /home/alx/Cloud/dns/.venv3/lib/python3.6/site-packages/bilm/training.py:410: static_rnn (from tensorflow.python.ops.rnn) is deprecated and will be removed in a future version.\n",
      "Instructions for updating:\n",
      "Please use `keras.layers.RNN(cell, unroll=True)`, which is equivalent to this API\n",
      "2019-09-11 16:41:22.924 WARNING in 'tensorflow'['deprecation'] at line 506: From /home/alx/Cloud/dns/.venv3/lib/python3.6/site-packages/tensorflow/python/ops/init_ops.py:1251: calling VarianceScaling.__init__ (from tensorflow.python.ops.init_ops) with dtype is deprecated and will be removed in a future version.\n",
      "Instructions for updating:\n",
      "Call initializer instance with the dtype argument instead of passing it to the constructor\n",
      "2019-09-11 16:41:22.929 WARNING in 'tensorflow'['deprecation'] at line 506: From /home/alx/Cloud/dns/.venv3/lib/python3.6/site-packages/tensorflow/python/ops/rnn_cell_impl.py:961: calling Zeros.__init__ (from tensorflow.python.ops.init_ops) with dtype is deprecated and will be removed in a future version.\n",
      "Instructions for updating:\n",
      "Call initializer instance with the dtype argument instead of passing it to the constructor\n"
     ]
    },
    {
     "name": "stdout",
     "output_type": "stream",
     "text": [
      "USING SKIP CONNECTIONS\n"
     ]
    },
    {
     "name": "stderr",
     "output_type": "stream",
     "text": [
      "2019-09-11 16:41:23.426 WARNING in 'tensorflow'['deprecation_wrapper'] at line 119: From /home/alx/Cloud/dns/.venv3/lib/python3.6/site-packages/deeppavlov-0.1.6-py3.6.egg/deeppavlov/models/bidirectional_lms/elmo/utils.py:52: The name tf.train.Saver is deprecated. Please use tf.compat.v1.train.Saver instead.\n",
      "\n",
      "2019-09-11 16:41:23.452 WARNING in 'tensorflow'['deprecation'] at line 323: From /home/alx/Cloud/dns/.venv3/lib/python3.6/site-packages/tensorflow/python/training/saver.py:1276: checkpoint_exists (from tensorflow.python.training.checkpoint_management) is deprecated and will be removed in a future version.\n",
      "Instructions for updating:\n",
      "Use standard file APIs to check for files with this prefix.\n",
      "2019-09-11 16:41:23.455 INFO in 'tensorflow'['saver'] at line 1280: Restoring parameters from /home/alx/Cloud/spell_corr/py_spelling_corrector/bidirectional_lms/elmo_ru_news/model.ckpt-1327437\n"
     ]
    }
   ],
   "source": [
    "elmo40in = ELMO40inSpellingCorrector()"
   ]
  },
  {
   "cell_type": "code",
   "execution_count": 3,
   "metadata": {},
   "outputs": [],
   "source": [
    "sentence = \"мамо мыла рабу\"\n",
    "preprocessed_sentence = elmo40in.preprocess_sentence(sentence)\n",
    "\n",
    "# analyse sentence\n",
    "analysis_dict = elmo40in.elmo_analysis_with_probable_candidates_reduction_dict_out(preprocessed_sentence)\n"
   ]
  },
  {
   "cell_type": "code",
   "execution_count": 7,
   "metadata": {},
   "outputs": [
    {
     "name": "stdout",
     "output_type": "stream",
     "text": [
      "{'input_sentence': 'мамо мыла рабу',\n",
      " 'tokenized_input_sentence': ['<S>', 'мамо', 'мыла', 'рабу', '</S>'],\n",
      " 'word_substitutions_candidates': [{'tok_idx': 0, 'top_k_candidates': []},\n",
      "                                   {'tok_idx': 1,\n",
      "                                    'top_k_candidates': [{'advantage': 3.552713678800501e-15,\n",
      "                                                          'token_str': 'мамо'},\n",
      "                                                         {'advantage': 2.0820875069057756,\n",
      "                                                          'token_str': 'мам'},\n",
      "                                                         {'advantage': 4.463778470237905,\n",
      "                                                          'token_str': 'мама'},\n",
      "                                                         {'advantage': 0.9131813802205251,\n",
      "                                                          'token_str': 'маме'},\n",
      "                                                         {'advantage': 2.373935833955848,\n",
      "                                                          'token_str': 'мами'},\n",
      "                                                         {'advantage': 2.249980042407339,\n",
      "                                                          'token_str': 'маму'},\n",
      "                                                         {'advantage': 5.783863086895597,\n",
      "                                                          'token_str': 'мало'},\n",
      "                                                         {'advantage': 6.4408864593551645,\n",
      "                                                          'token_str': 'мимо'}]},\n",
      "                                   {'tok_idx': 2,\n",
      "                                    'top_k_candidates': [{'advantage': 0.0,\n",
      "                                                          'token_str': 'мыла'},\n",
      "                                                         {'advantage': 4.7868603627330195,\n",
      "                                                          'token_str': 'мала'},\n",
      "                                                         {'advantage': 0.10490315948264595,\n",
      "                                                          'token_str': 'мила'},\n",
      "                                                         {'advantage': 7.0748367144590905,\n",
      "                                                          'token_str': 'была'}]},\n",
      "                                   {'tok_idx': 3,\n",
      "                                    'top_k_candidates': [{'advantage': 3.552713678800501e-15,\n",
      "                                                          'token_str': 'рабу'},\n",
      "                                                         {'advantage': 0.9211664144261462,\n",
      "                                                          'token_str': 'раб'},\n",
      "                                                         {'advantage': 0.8205528188258064,\n",
      "                                                          'token_str': 'раба'},\n",
      "                                                         {'advantage': 0.019004836734517028,\n",
      "                                                          'token_str': 'рабе'},\n",
      "                                                         {'advantage': 1.7920140965872307,\n",
      "                                                          'token_str': 'раби'},\n",
      "                                                         {'advantage': 0.7834959453859902,\n",
      "                                                          'token_str': 'рабы'},\n",
      "                                                         {'advantage': 2.1126632535752954,\n",
      "                                                          'token_str': 'рагу'},\n",
      "                                                         {'advantage': 1.3696174954082068,\n",
      "                                                          'token_str': 'разу'},\n",
      "                                                         {'advantage': 2.5185952510902894,\n",
      "                                                          'token_str': 'раму'},\n",
      "                                                         {'advantage': 4.893460319886675,\n",
      "                                                          'token_str': 'рану'},\n",
      "                                                         {'advantage': 5.37990389481039,\n",
      "                                                          'token_str': 'рыбу'},\n",
      "                                                         {'advantage': 4.0623040034847016,\n",
      "                                                          'token_str': 'бабу'},\n",
      "                                                         {'advantage': 0.34060960429953724,\n",
      "                                                          'token_str': 'жабу'}]},\n",
      "                                   {'tok_idx': 4,\n",
      "                                    'top_k_candidates': [{'advantage': 0.0,\n",
      "                                                          'token_str': '</S>'}]}]}\n"
     ]
    }
   ],
   "source": [
    "pprint.pprint(analysis_dict)"
   ]
  },
  {
   "cell_type": "markdown",
   "metadata": {},
   "source": [
    "# Evaluate\n",
    "Score on train dataset with separate analysis and fixes making (for grid search)"
   ]
  },
  {
   "cell_type": "code",
   "execution_count": 10,
   "metadata": {},
   "outputs": [],
   "source": [
    "from evaluate import evaluate_spelling_corrector\n",
    "import datetime as dt"
   ]
  },
  {
   "cell_type": "code",
   "execution_count": 8,
   "metadata": {},
   "outputs": [],
   "source": [
    "DIALOG_DATA_PATH = 'data/dialog/'\n",
    "# Train data\n",
    "TRAIN_ERRONEOUS_DATA = DIALOG_DATA_PATH + \"source_sents.txt\"\n",
    "TRAIN_GOLDEN_DATA = DIALOG_DATA_PATH + \"corrected_sents.txt\"\n",
    "\n",
    "# Test data\n",
    "TEST_ERRONEOUS_DATA = DIALOG_DATA_PATH + \"test_sample_testset.txt\"\n",
    "TEST_GOLDEN_DATA = DIALOG_DATA_PATH + \"corr_sample_testset.txt\"\n",
    "\n",
    "\n",
    "# Clean train\n",
    "CLEAN_TRAIN_ERRONEOUS_DATA = DIALOG_DATA_PATH + \"train_input_sentences.txt\"\n",
    "CLEAN_TRAIN_GOLDEN_DATA = DIALOG_DATA_PATH + \"train_golden_sentences.txt\""
   ]
  },
  {
   "cell_type": "code",
   "execution_count": 9,
   "metadata": {},
   "outputs": [],
   "source": [
    "# cleaned train!\n",
    "with open(CLEAN_TRAIN_ERRONEOUS_DATA, 'r') as sents_file:\n",
    "    erroneous_lines = sents_file.readlines()\n",
    "    erroneous_lines = [line.lower().strip() for line in erroneous_lines]\n",
    "    \n",
    "with open(CLEAN_TRAIN_GOLDEN_DATA, 'r') as sents_file:\n",
    "    golden_lines = sents_file.readlines()\n",
    "    golden_lines = [line.lower().strip() for line in golden_lines]"
   ]
  },
  {
   "cell_type": "code",
   "execution_count": 14,
   "metadata": {},
   "outputs": [
    {
     "name": "stdout",
     "output_type": "stream",
     "text": [
      "number of sentences with the same token length:\n",
      "1680\n",
      "total number of sentences:\n",
      "2000\n"
     ]
    }
   ],
   "source": [
    "# calculate number of sentnences with the same token length in TEST dataset\n",
    "# with open(TEST_ERRONEOUS_DATA, 'r') as sents_file:\n",
    "with open(TEST_ERRONEOUS_DATA, 'r') as sents_file:\n",
    "    erroneous_lines_tst = sents_file.readlines()\n",
    "    erroneous_lines_tst = [line.lower().strip() for line in erroneous_lines_tst]\n",
    "    \n",
    "# with open(TEST_GOLDEN_DATA, 'r') as sents_file:\n",
    "with open(TEST_GOLDEN_DATA, 'r') as sents_file:\n",
    "    golden_lines_tst = sents_file.readlines()\n",
    "    golden_lines_tst = [line.lower().strip() for line in golden_lines_tst]\n",
    "    \n",
    "the_sames_cntr = 0\n",
    "for idx, each_err_line in enumerate(erroneous_lines_tst):\n",
    "    err_toks = each_err_line.split()\n",
    "    gold_toks = golden_lines_tst[idx].split()\n",
    "    if len(gold_toks) == len(err_toks):\n",
    "        the_sames_cntr+=1\n",
    "print(\"number of sentences with the same token length:\")        \n",
    "print(the_sames_cntr)\n",
    "print(\"total number of sentences:\")        \n",
    "print(len(erroneous_lines))"
   ]
  },
  {
   "cell_type": "code",
   "execution_count": 13,
   "metadata": {},
   "outputs": [
    {
     "name": "stdout",
     "output_type": "stream",
     "text": [
      "number of sentences with the same token length:\n",
      "1714\n",
      "total number of sentences:\n",
      "2000\n"
     ]
    }
   ],
   "source": [
    "# calculate number of sentnences with the same token length in train dataset\n",
    "the_sames_cntr = 0\n",
    "for idx, each_err_line in enumerate(erroneous_lines):\n",
    "    err_toks = each_err_line.split()\n",
    "    gold_toks = golden_lines[idx].split()\n",
    "    if len(gold_toks) == len(err_toks):\n",
    "        the_sames_cntr+=1\n",
    "print(\"number of sentences with the same token length:\")        \n",
    "print(the_sames_cntr)\n",
    "print(\"total number of sentences:\")        \n",
    "print(len(erroneous_lines))"
   ]
  },
  {
   "cell_type": "markdown",
   "metadata": {},
   "source": [
    "# Calculate Analysis Dicts for TRAIN dataset"
   ]
  },
  {
   "cell_type": "code",
   "execution_count": null,
   "metadata": {},
   "outputs": [],
   "source": [
    "# loop over sentences that has the same number of tokens as in correct answer\n",
    "hypotheses = []\n",
    "filtered_erroneous_lines = []\n",
    "filtered_golden_lines = []\n",
    "start_dt = dt.datetime.now()\n",
    "results_data = []\n",
    "for idx, each_error_line in enumerate(erroneous_lines):\n",
    "#     if idx<3:continue\n",
    "    err_toks = each_error_line.split()\n",
    "    gold_toks = golden_lines[idx].split()\n",
    "    if len(gold_toks) == len(err_toks):\n",
    "        each_error_line = elmo40in.preprocess_sentence(each_error_line)\n",
    "        res = elmo40in.elmo_analysis_with_probable_candidates_reduction_dict_out(each_error_line)\n",
    "        res['golden_sentence'] = golden_lines[idx]\n",
    "        pprint.pprint(res)\n",
    "        results_data.append(res)\n",
    "        print(\"________________________________________\")\n",
    "#     if idx>13:\n",
    "#         break\n",
    "fin_dt = dt.datetime.now()\n",
    "print(\"Total time for inference:\")\n",
    "print(fin_dt-start_dt)\n",
    "# results = evaluate_spelling_corrector(filtered_erroneous_lines, \n",
    "#                                       filtered_golden_lines, \n",
    "#                                       hypotheses)\n",
    "# print(results['precision'])\n",
    "# print(results['recall'])\n",
    "# print(results['f_measure'])"
   ]
  },
  {
   "cell_type": "markdown",
   "metadata": {},
   "source": [
    "# Parameters Grid Optimization"
   ]
  },
  {
   "cell_type": "code",
   "execution_count": null,
   "metadata": {},
   "outputs": [],
   "source": [
    "# lets evaluate fixes model\n",
    "# 1. lets produce famili of fixers\n",
    "# max_num_fixes_params = (1,2,3,4,5)\n",
    "# fix_treshold_params = \n",
    "\n",
    "from sklearn.model_selection import ParameterGrid\n",
    "param_grid = {\n",
    "    'max_num_fixes': np.arange(1, 6), \n",
    "    'fix_treshold': np.linspace(1.0, 20.0, 5)}\n",
    "parameters_grid_list = list(ParameterGrid(param_grid))\n",
    "print(list(ParameterGrid(param_grid)))\n",
    "\n",
    "# fixes_maker(results_data[idx], max_num_fixes=5, fix_treshold=5, remove_s=True)"
   ]
  },
  {
   "cell_type": "code",
   "execution_count": null,
   "metadata": {},
   "outputs": [],
   "source": [
    "# Sequential method for TRAIN dataset\n",
    "# loop over sentences that has the same number of tokens as in correct answer\n",
    "hypotheses = [[] for each_ in range(len(parameters_grid_list))]\n",
    "filtered_erroneous_lines = []\n",
    "filtered_golden_lines = []\n",
    "\n",
    "for sent_idx, each_data in enumerate(results_data):\n",
    "    for estimator_idx, each_estimator_param in enumerate(parameters_grid_list):\n",
    "        sentence_hypothesis = fixes_maker(each_data, remove_s=True, **each_estimator_param)\n",
    "        hypotheses_tst[estimator_idx].append(sentence_hypothesis)\n",
    "    filtered_erroneous_lines.append(each_data['input_sentence'])\n",
    "    filtered_golden_lines.append(each_data['golden_sentence'])\n",
    "\n",
    "# evaluate each estimator:\n",
    "\n",
    "for estimator_idx, each_estimator_param in enumerate(parameters_grid_list):\n",
    "    results = evaluate_spelling_corrector(filtered_erroneous_lines, \n",
    "                                          filtered_golden_lines, \n",
    "                                          hypotheses_tst[estimator_idx])\n",
    "    print(estimator_idx)\n",
    "    print(each_estimator_param)\n",
    "    print(\"f1:\")\n",
    "    print(results['f_measure'])\n",
    "    print(\"precision:\")\n",
    "    print(results['precision'])\n",
    "    print(\"_____\")\n",
    "# pprint.pprint(results)"
   ]
  }
 ],
 "metadata": {
  "kernelspec": {
   "display_name": ".venv3",
   "language": "python",
   "name": ".venv3"
  },
  "language_info": {
   "codemirror_mode": {
    "name": "ipython",
    "version": 3
   },
   "file_extension": ".py",
   "mimetype": "text/x-python",
   "name": "python",
   "nbconvert_exporter": "python",
   "pygments_lexer": "ipython3",
   "version": "3.6.8"
  }
 },
 "nbformat": 4,
 "nbformat_minor": 2
}
