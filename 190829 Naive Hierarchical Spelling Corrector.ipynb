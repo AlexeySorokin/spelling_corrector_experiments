{
 "cells": [
  {
   "cell_type": "code",
   "execution_count": 1,
   "metadata": {},
   "outputs": [],
   "source": [
    "# from deeppavlov.models.spelling_correction.levenshtein.searcher_component import LevenshteinSearcherComponent\n",
    "import numpy as np\n",
    "DATA_PATH = \"/home/alx/Cloud/spell_corr/py_spelling_corrector/data/\"\n"
   ]
  },
  {
   "cell_type": "code",
   "execution_count": 2,
   "metadata": {},
   "outputs": [],
   "source": [
    "from dp_components.kenlm_elector import KenlmElector\n",
    "from dp_components.levenshtein_searcher import LevenshteinSearcherComponent\n",
    "from dp_components.sc_candidates_generator import SpellingCorrectionCandidatesGenerator"
   ]
  },
  {
   "cell_type": "code",
   "execution_count": 4,
   "metadata": {},
   "outputs": [],
   "source": [
    "from copy import copy, deepcopy\n",
    "\n",
    "class LanguageModel():\n",
    "    def tokenize(self, sent_str):\n",
    "        pass\n",
    "\n",
    "    def estimate_likelihood(self, sent_str):\n",
    "        pass\n",
    "\n",
    "    def score_sentences(self, sentences):\n",
    "        return np.random.rand(len(sentences))\n",
    "\n",
    "class TokenHypothesis():\n",
    "    def __init__(self, text, err_score=0.0):\n",
    "        self.text = text\n",
    "#         self.lm_score = 0\n",
    "        # score for error:\n",
    "        self.err_score = err_score\n",
    "        # counter which helps to estimate how many words was merged\n",
    "        # this is used to multiply likelihood of unknown word\n",
    "        self.merges_count = 0\n",
    "        \n",
    "    def merge_with_suffix(self, suffix_str, err_score):\n",
    "        self.text += suffix_str\n",
    "        self.err_score += err_score\n",
    "        self.merges_count+=1\n",
    "        return self\n",
    "    \n",
    "    def __repr__(self):\n",
    "        return \"[HypoTok: %s]\" % self.text\n",
    "    \n",
    "class SentenceHypothesis():\n",
    "    def __init__(self, text):\n",
    "        self.text = text\n",
    "#         self.score = np.nan\n",
    "        self.lm_score = 0\n",
    "        # score for error:\n",
    "#         self.err_score = err_score\n",
    "        self.final_score = 0.0\n",
    "        # token hypotheses of the sentence\n",
    "        self.token_hypotheses = []\n",
    "        \n",
    "    def total_score(self):\n",
    "        return self.lm_score+self.err_score()\n",
    "    \n",
    "    def err_score(self):\n",
    "        # calculates error score from token errors\n",
    "        total_error = 0\n",
    "        for each_tok_hyp in self.token_hypotheses:\n",
    "            total_error+=each_tok_hyp.err_score\n",
    "        return total_error\n",
    "    \n",
    "    def fork_for_each_suffix(self, suffixes, error_scores=None):\n",
    "        \"\"\"Given a list of suffixes strings it forks the current hypotheses into several\n",
    "        hypotheses for each suffix.\n",
    "\n",
    "        : param error_scores: score for suffix, usually negative value (logit score), suffix error score is incremented to\n",
    "        baseline hypothesis score\n",
    "        \"\"\"\n",
    "        hypotheses_list = []\n",
    "        #         import ipdb; ipdb.set_trace()\n",
    "        for idx, each_suffix in enumerate(suffixes):\n",
    "            new_sentence_hypothesis = deepcopy(self)\n",
    "            new_sentence_hypothesis.text += each_suffix\n",
    "\n",
    "            if each_suffix[0] == \" \":\n",
    "                # new token case\n",
    "                # if suffix starts with space character, then we have a token split\n",
    "                tok_hypothesis = TokenHypothesis(each_suffix[1:], error_scores[idx])\n",
    "                new_sentence_hypothesis.token_hypotheses.append(tok_hypothesis)\n",
    "\n",
    "            else:\n",
    "                # hypotheses of continuation of token\n",
    "                tokens_count = len(new_sentence_hypothesis.token_hypotheses)\n",
    "                if tokens_count == 0:\n",
    "                    # the first token in the sentence\n",
    "                    tok_hypothesis = TokenHypothesis(each_suffix, error_scores[idx])\n",
    "                    new_sentence_hypothesis.token_hypotheses.append(tok_hypothesis)\n",
    "\n",
    "                else:\n",
    "                    # get last token and merge it with suffix:\n",
    "                    last_token_hypothesis = new_sentence_hypothesis.token_hypotheses[\n",
    "                        tokens_count - 1]\n",
    "                    # TODO do we really need a deepcopy here? (I suppose token hypothesis is already deepcopied in sentencece hypothesis deepcopy?)\n",
    "                    last_token_hypothesis = deepcopy(last_token_hypothesis)\n",
    "#                     last_token_hypothesis.merge_with_suffix(each_suffix[1:], error_scores[idx])\n",
    "                    last_token_hypothesis.merge_with_suffix(each_suffix, error_scores[idx])\n",
    "                    # substitute the last token hypothesis with enlarged one\n",
    "                    new_sentence_hypothesis.token_hypotheses[\n",
    "                        tokens_count - 1] = last_token_hypothesis\n",
    "\n",
    "            hypotheses_list.append(new_sentence_hypothesis)\n",
    "\n",
    "        return hypotheses_list\n",
    "\n",
    "    def __repr__(self):        \n",
    "        if self.final_score!=0:\n",
    "            out_text = \" score: %f\" % self.final_score        \n",
    "        else:\n",
    "            out_text = \" score: %f\" % self.total_score()        \n",
    "        text = \"hypothesis: %s\" % self.text\n",
    "        return text + out_text\n",
    "    \n",
    "class HypothesesHub():\n",
    "    def __init__(self):\n",
    "        # init with null hypothesis:\n",
    "        self.hypotheses = [SentenceHypothesis(\"\")]\n",
    "\n",
    "    def get_scores(self):\n",
    "        \"\"\"Returns summarized scores Error + LM score\"\"\"\n",
    "        scores = [each_hypo.total_score() for each_hypo in self.hypotheses]\n",
    "        return scores\n",
    "\n",
    "    def append_partial_hypotheses(self, partial_candidates, error_scores=None):\n",
    "        \"\"\"\n",
    "        For each hypothesis in the hub it appends all candidates\n",
    "        :param partial_candidates:\n",
    "        :return: updated self\n",
    "        \"\"\"\n",
    "        new_hypotheses = []\n",
    "        if self.hypotheses:\n",
    "            for each_hypothesis in self.hypotheses:\n",
    "                hypos = each_hypothesis.fork_for_each_suffix(partial_candidates, error_scores=error_scores)\n",
    "                new_hypotheses += hypos\n",
    "        else:\n",
    "            print(\"No hypotheses!!!!\")\n",
    "        self.hypotheses = new_hypotheses\n",
    "        return self\n",
    "\n",
    "    \n",
    "class SpellingCorrector():\n",
    "    # language_model;\n",
    "    # error model;\n",
    "    def __init__(self, sccg=None, language_model=None):\n",
    "        \"\"\"\n",
    "        sccg - spelling corrector hypotheses generator instance\n",
    "        lang_model - language model instance, by default KenLM\n",
    "        \"\"\"\n",
    "        \n",
    "        # setup hypotheses generator:\n",
    "        if not sccg:\n",
    "            self.sccg = SpellingCorrectionCandidatesGenerator()\n",
    "        else:\n",
    "            self.sccg = sccg\n",
    "        \n",
    "        # setup language model:\n",
    "        if not language_model:\n",
    "            # KenLM Elector as LM:\n",
    "            ROOT_PATH = \"~/.deeppavlov\"\n",
    "            DOWNLOADS_PATH = ROOT_PATH + \"/downloads\"        \n",
    "            self.lm = KenlmElector(load_path=DOWNLOADS_PATH+\"/language_models/ru_wiyalen_no_punkt.arpa.binary\")\n",
    "\n",
    "        else:\n",
    "            self.lm = language_model\n",
    "    \n",
    "    def score_hypothesis(self, sentence_hypothesis):\n",
    "        \"\"\"Scores hypothesis by KenLM with accounting \"\"\"\n",
    "        state = kenlm.State()\n",
    "        prev_state = state\n",
    "        self.lm.lm.NullContextWrite(state)\n",
    "        accum = 0.0\n",
    "        for each_tok_hyp in sentence_hypothesis.token_hypotheses:\n",
    "            next_state = kenlm.State()\n",
    "            uniscore= self.lm.lm.BaseScore(prev_state, each_tok_hyp.text, next_state)\n",
    "            if each_tok_hyp.merges_count>0:\n",
    "                # check each_tok_hyp is OOV! otherwise heuristics is incorrect\n",
    "                uniscore *= each_tok_hyp.merges_count+1\n",
    "            if each_tok_hyp.err_score:\n",
    "                assert each_tok_hyp.err_score<=0\n",
    "                uniscore += each_tok_hyp.err_score\n",
    "#             print(each_tok_hyp, uniscore)\n",
    "            accum += uniscore\n",
    "            prev_state = next_state\n",
    "        return accum\n",
    "            \n",
    "            \n",
    "    def score_hypotheses_hub(self, hypotheses_hub):\n",
    "        \"\"\"Score hypotheses by LM\n",
    "        Command to run scoring of all hypotheses by language model scoring function\n",
    "        :return: list of scored hypotheses\n",
    "        \n",
    "        \"\"\"\n",
    "        scores = []\n",
    "        for each_sentence_hypothesis in hypotheses_hub.hypotheses:\n",
    "            each_sentence_hypothesis.final_score = self.score_hypothesis(each_sentence_hypothesis)\n",
    "            scores.append(each_sentence_hypothesis.final_score)\n",
    "            \n",
    "        return scores\n",
    "\n",
    "    def score_hypotheses_hub_optimized(self, hypotheses_hub):\n",
    "        \"\"\"Score hypotheses by LM\n",
    "        \n",
    "        Command to run scoring of all hypotheses by language model scoring function\n",
    "        \n",
    "        Optimized version.\n",
    "        \n",
    "        We need to preprocess all hypotheses by creating prefix tree and using beam search to avoid \n",
    "        combinatorial blast\n",
    "        \n",
    "        \n",
    "        :return: list of scored hypotheses\n",
    "        \n",
    "        \"\"\"\n",
    "        scores = []\n",
    "        for each_sentence_hypothesis in hypotheses_hub.hypotheses:\n",
    "            each_sentence_hypothesis.final_score = self.score_hypothesis(each_sentence_hypothesis)\n",
    "            scores.append(each_sentence_hypothesis.final_score)\n",
    "            \n",
    "        return scores\n",
    "    \n",
    "    def prune_low_prob_hypotheses(self, hypo_hub, max_number_of_hypotheses=200):\n",
    "        \"\"\"\n",
    "        Prunes hypotheses that has low probability.\n",
    "                \n",
    "        :return:\n",
    "        \"\"\"\n",
    "        \n",
    "        # number check\n",
    "        hypo_hub.hypotheses = sorted(hypo_hub.hypotheses, key=lambda x: x.final_score, reverse=True)        \n",
    "        if len(hypo_hub.hypotheses)>max_number_of_hypotheses:\n",
    "            # prune those which are the worst\n",
    "            hypo_hub.hypotheses = hypo_hub.hypotheses[:max_number_of_hypotheses]     \n",
    "        \n",
    "        return hypo_hub.hypotheses\n",
    "    \n",
    "    def analyze_sentence(self, sentence):\n",
    "        \"\"\"\n",
    "        Method for analyzing sentence: generating hypotheses and scoring them\n",
    "        \n",
    "        :param sentence: str, sentence with errors\n",
    "        :return: correction hypotheses of the sentence\n",
    "        \"\"\"\n",
    "        self.hypo_hub = HypothesesHub()\n",
    "        # preprocessing:\n",
    "        # TODO make lowercasing revertible:\n",
    "        sentence = self.lowercase(sentence)        \n",
    "        tokenized_input = self._tokenize(sentence)\n",
    "        for idx, each_tok in enumerate(tokenized_input):\n",
    "            # TODO optionally you could pass left and right context\n",
    "            err_scores, tok_candidates = self.sccg.gen_candidates(each_tok)\n",
    "            if idx>0:\n",
    "                # TODO optionally you could pass left and right context\n",
    "                err_scores, tok_candidates = self.sccg.variate_with_prefixes(tok_candidates, err_scores)\n",
    "            \n",
    "            self.hypo_hub = self.hypo_hub.append_partial_hypotheses(tok_candidates, err_scores)\n",
    "            \n",
    "            # group hypotheses by tokenized lengths and then use standrd KenLM scoring function?\n",
    "            l_scores = self.score_hypotheses_hub(self.hypo_hub)\n",
    "            self.prune_low_prob_hypotheses(self.hypo_hub)\n",
    "            \n",
    "        return self.hypo_hub.hypotheses\n",
    "    \n",
    "    def __call__(self, input_sentences_batch):\n",
    "        \"\"\"\n",
    "        Given a batch of sentences it returns a batch of corrected sentences\n",
    "        \n",
    "        \"\"\"\n",
    "        outputs = []\n",
    "        for each_sent in input_sentences_batch:\n",
    "            hypotheses = self.analyze_sentence(each_sent)\n",
    "            the_best_hypothesis = hypotheses[0]\n",
    "            outputs.append(the_best_hypothesis.text)\n",
    "        return outputs\n",
    "    \n",
    "    def lowercase(self, sent_str):\n",
    "        return sent_str.lower()\n",
    "    \n",
    "    def _tokenize(self, sent_str):\n",
    "        return sent_str.split()\n",
    "\n",
    "    def predict_correct(self, sentence_str):\n",
    "        \"\"\"\n",
    "        predicts correction of the sentence\n",
    "        :param sentence_str:\n",
    "        :return:\n",
    "        \"\"\"\n",
    "\n",
    "        pass\n",
    "    \n",
    "# UNFINISHED\n",
    "# class SpellingCorrectorGraphy(SpellingCorrector):\n",
    "#     \"\"\"\n",
    "#     The spelling corrector which uses graph representation of hypothesis space\n",
    "#     \"\"\"\n",
    "#     def analyze_sentence(self, sentence):\n",
    "#         \"\"\"\n",
    "#         Method for analyzing sentence: generating hypotheses and scoring them\n",
    "        \n",
    "#         :param sentence: str, sentence with errors\n",
    "#         :return: correction hypotheses of the sentence\n",
    "#         \"\"\"\n",
    "#         self.hypo_hub = HypothesesHub()\n",
    "#         # preprocessing:\n",
    "#         # TODO make lowercasing revertible:\n",
    "#         sentence = self.lowercase(sentence)        \n",
    "#         tokenized_input = self._tokenize(sentence)\n",
    "#         for idx, each_tok in enumerate(tokenized_input):\n",
    "#             # TODO optionally you could pass left and right context\n",
    "#             err_scores, tok_candidates = self.sccg.gen_candidates(each_tok)\n",
    "#             if idx>0:\n",
    "#                 # TODO optionally you could pass left and right context\n",
    "#                 err_scores, tok_candidates = self.sccg.variate_with_prefixes(tok_candidates, err_scores)\n",
    "            \n",
    "#             self.hypo_hub = self.hypo_hub.append_partial_hypotheses(tok_candidates, err_scores)\n",
    "            \n",
    "#             # group hypotheses by tokenized lengths and then use standrd KenLM scoring function?\n",
    "#             l_scores = self.score_hypotheses_hub(self.hypo_hub)\n",
    "#             self.prune_low_prob_hypotheses(self.hypo_hub)\n",
    "            \n",
    "#         return self.hypo_hub.hypotheses\n",
    "    "
   ]
  },
  {
   "cell_type": "code",
   "execution_count": 11,
   "metadata": {},
   "outputs": [
    {
     "data": {
      "text/plain": [
       "([-6.0, 0.0, -4.0], ['то', ' то', '-то'])"
      ]
     },
     "execution_count": 11,
     "metadata": {},
     "output_type": "execute_result"
    }
   ],
   "source": [
    "sccg.variate_with_prefixes([\"то\"], [0.0])"
   ]
  },
  {
   "cell_type": "code",
   "execution_count": 5,
   "metadata": {},
   "outputs": [],
   "source": [
    "# init it once because it loads for 2.5 minutes:\n",
    "sccg = SpellingCorrectionCandidatesGenerator()"
   ]
  },
  {
   "cell_type": "code",
   "execution_count": 6,
   "metadata": {},
   "outputs": [],
   "source": [
    "sc = SpellingCorrector(sccg=sccg)"
   ]
  },
  {
   "cell_type": "code",
   "execution_count": 7,
   "metadata": {},
   "outputs": [
    {
     "data": {
      "text/plain": [
       "[hypothesis: когда нибудь score: -7.640179,\n",
       " hypothesis: когда-нибудь score: -12.643865,\n",
       " hypothesis: тогда нибудь score: -14.637478,\n",
       " hypothesis: кода нибудь score: -15.689139,\n",
       " hypothesis: когда ни будь score: -16.147324,\n",
       " hypothesis: корда нибудь score: -17.100760,\n",
       " hypothesis: когданибудь score: -18.130759,\n",
       " hypothesis: ко да нибудь score: -18.561239,\n",
       " hypothesis: тогда ни будь score: -20.326597,\n",
       " hypothesis: кода ни будь score: -21.378259,\n",
       " hypothesis: кода-нибудь score: -22.004326,\n",
       " hypothesis: тогда-нибудь score: -22.250359,\n",
       " hypothesis: корда-нибудь score: -22.250359,\n",
       " hypothesis: ко да-нибудь score: -22.250359,\n",
       " hypothesis: когдани будь score: -22.750359,\n",
       " hypothesis: тогданибудь score: -22.750359,\n",
       " hypothesis: коданибудь score: -22.750359,\n",
       " hypothesis: корданибудь score: -22.750359,\n",
       " hypothesis: ко данибудь score: -22.750359,\n",
       " hypothesis: корда ни будь score: -22.789880,\n",
       " hypothesis: ко да ни будь score: -24.250359,\n",
       " hypothesis: тогдани будь score: -26.750359,\n",
       " hypothesis: кодани будь score: -26.750359,\n",
       " hypothesis: кордани будь score: -26.750359,\n",
       " hypothesis: ко дани будь score: -26.750359]"
      ]
     },
     "execution_count": 7,
     "metadata": {},
     "output_type": "execute_result"
    }
   ],
   "source": [
    "hypotheses = sc.analyze_sentence(\"когда нибудь\")\n",
    "hypotheses"
   ]
  },
  {
   "cell_type": "code",
   "execution_count": 8,
   "metadata": {},
   "outputs": [
    {
     "data": {
      "text/plain": [
       "([-4.0, 0], ['ни будь', 'нибудь'])"
      ]
     },
     "execution_count": 8,
     "metadata": {},
     "output_type": "execute_result"
    }
   ],
   "source": [
    "sccg.gen_candidates(\"нибудь\")"
   ]
  },
  {
   "cell_type": "code",
   "execution_count": 9,
   "metadata": {},
   "outputs": [
    {
     "data": {
      "text/plain": [
       "[[[(-4.0, 'ни будь'), (0, 'нибудь')]]]"
      ]
     },
     "execution_count": 9,
     "metadata": {},
     "output_type": "execute_result"
    }
   ],
   "source": [
    "sccg.lsc([[\"нибудь\"]])"
   ]
  },
  {
   "cell_type": "code",
   "execution_count": 38,
   "metadata": {},
   "outputs": [
    {
     "name": "stdout",
     "output_type": "stream",
     "text": [
      "['ни будь', 'нибудь'] [-4.0, -8.0]\n"
     ]
    }
   ],
   "source": [
    "scored_candidates=sccg.lsc([[\"нибудь\"]])[0][0]\n",
    "scores, w_forms = zip(*scored_candidates)\n",
    "w_forms = list(w_forms)\n",
    "scores = list(scores)\n",
    "print(w_forms, scores)"
   ]
  },
  {
   "cell_type": "code",
   "execution_count": 11,
   "metadata": {},
   "outputs": [
    {
     "name": "stdout",
     "output_type": "stream",
     "text": [
      "[-0.0, -4.0, -4.0, -4.0, -4.0] ['когда', 'кода', 'корда', 'ко да', 'тогда']\n",
      "[-4.0, 0] ['ни будь', 'нибудь']\n",
      "[hypothesis: когда нибудь score: -7.640179, hypothesis: когда-нибудь score: -12.643865, hypothesis: тогда нибудь score: -14.637478, hypothesis: кода нибудь score: -15.689139, hypothesis: когда ни будь score: -16.147324, hypothesis: корда нибудь score: -17.100760, hypothesis: когданибудь score: -18.130759, hypothesis: ко да нибудь score: -18.561239, hypothesis: тогда ни будь score: -20.326597, hypothesis: кода ни будь score: -21.378259, hypothesis: кода-нибудь score: -22.004326, hypothesis: тогда-нибудь score: -22.250359, hypothesis: корда-нибудь score: -22.250359, hypothesis: ко да-нибудь score: -22.250359, hypothesis: когдани будь score: -22.750359, hypothesis: тогданибудь score: -22.750359, hypothesis: коданибудь score: -22.750359, hypothesis: корданибудь score: -22.750359, hypothesis: ко данибудь score: -22.750359, hypothesis: корда ни будь score: -22.789880, hypothesis: ко да ни будь score: -24.250359, hypothesis: тогдани будь score: -26.750359, hypothesis: кодани будь score: -26.750359, hypothesis: кордани будь score: -26.750359, hypothesis: ко дани будь score: -26.750359]\n"
     ]
    }
   ],
   "source": [
    "sentence = \"когда нибудь\"\n",
    "hypo_hub = HypothesesHub()\n",
    "\n",
    "tokenized_input = sc._tokenize(sentence)\n",
    "for idx, each_tok in enumerate(tokenized_input):\n",
    "    # TODO optionally you could pass left and right context\n",
    "    err_scores, tok_candidates = sccg.gen_candidates(each_tok)\n",
    "    print(err_scores, tok_candidates)\n",
    "    if idx>0:\n",
    "        # TODO optionally you could pass left and right context\n",
    "        err_scores, tok_candidates = sccg.variate_with_prefixes(tok_candidates, err_scores)\n",
    "\n",
    "    hypo_hub = hypo_hub.append_partial_hypotheses(tok_candidates, err_scores)\n",
    "\n",
    "    # group hypotheses by tokenized lengths and then use standrd KenLM scoring function?\n",
    "    l_scores = sc.score_hypotheses_hub(hypo_hub)\n",
    "    sc.prune_low_prob_hypotheses(hypo_hub)\n",
    "\n",
    "print(hypo_hub.hypotheses)"
   ]
  },
  {
   "cell_type": "code",
   "execution_count": 10,
   "metadata": {},
   "outputs": [
    {
     "data": {
      "text/plain": [
       "-4.0"
      ]
     },
     "execution_count": 10,
     "metadata": {},
     "output_type": "execute_result"
    }
   ],
   "source": [
    "hypotheses[2].err_score()"
   ]
  },
  {
   "cell_type": "code",
   "execution_count": 25,
   "metadata": {},
   "outputs": [
    {
     "data": {
      "text/plain": [
       "-10.0"
      ]
     },
     "execution_count": 25,
     "metadata": {},
     "output_type": "execute_result"
    }
   ],
   "source": [
    "hypotheses[3].token_hypotheses[0].err_score"
   ]
  },
  {
   "cell_type": "code",
   "execution_count": 27,
   "metadata": {},
   "outputs": [
    {
     "data": {
      "text/plain": [
       "'когда-нибудь'"
      ]
     },
     "execution_count": 27,
     "metadata": {},
     "output_type": "execute_result"
    }
   ],
   "source": [
    "hypotheses[3].token_hypotheses[0].text"
   ]
  },
  {
   "cell_type": "code",
   "execution_count": 6,
   "metadata": {},
   "outputs": [
    {
     "data": {
      "text/plain": [
       "[hypothesis: привет пампушка score: -17.856689,\n",
       " hypothesis: привет подпушка score: -18.043473,\n",
       " hypothesis: привет помпу ка score: -18.166489,\n",
       " hypothesis: привет пом ушка score: -18.166489,\n",
       " hypothesis: привет помп ушка score: -18.166489,\n",
       " hypothesis: привет попушка score: -18.166489,\n",
       " hypothesis: привет по пушка score: -18.166489,\n",
       " hypothesis: привет пом пушка score: -18.166489,\n",
       " hypothesis: привел пампушка score: -20.849180,\n",
       " hypothesis: примет пампушка score: -20.957743,\n",
       " hypothesis: привел подпушка score: -21.035964,\n",
       " hypothesis: примет подпушка score: -21.144526,\n",
       " hypothesis: привел помпу ка score: -21.158980,\n",
       " hypothesis: привел пом ушка score: -21.158980,\n",
       " hypothesis: привел помп ушка score: -21.158980,\n",
       " hypothesis: привел попушка score: -21.158980,\n",
       " hypothesis: привел по пушка score: -21.158980,\n",
       " hypothesis: привел пом пушка score: -21.158980,\n",
       " hypothesis: примет помпу ка score: -21.267542,\n",
       " hypothesis: примет пом ушка score: -21.267542,\n",
       " hypothesis: примет помп ушка score: -21.267542,\n",
       " hypothesis: примет попушка score: -21.267542,\n",
       " hypothesis: примет по пушка score: -21.267542,\n",
       " hypothesis: примет пом пушка score: -21.267542,\n",
       " hypothesis: привез пампушка score: -21.289653,\n",
       " hypothesis: придет пампушка score: -21.331102,\n",
       " hypothesis: привез подпушка score: -21.476437,\n",
       " hypothesis: придет подпушка score: -21.517886,\n",
       " hypothesis: привез помпу ка score: -21.599453,\n",
       " hypothesis: привез пом ушка score: -21.599453,\n",
       " hypothesis: привез помп ушка score: -21.599453,\n",
       " hypothesis: привез попушка score: -21.599453,\n",
       " hypothesis: привез по пушка score: -21.599453,\n",
       " hypothesis: привез пом пушка score: -21.599453,\n",
       " hypothesis: придет помпу ка score: -21.640902,\n",
       " hypothesis: придет пом ушка score: -21.640902,\n",
       " hypothesis: придет помп ушка score: -21.640902,\n",
       " hypothesis: придет попушка score: -21.640902,\n",
       " hypothesis: придет по пушка score: -21.640902,\n",
       " hypothesis: придет пом пушка score: -21.640902,\n",
       " hypothesis: привет помпушка score: -22.166489,\n",
       " hypothesis: прилет пампушка score: -22.396225,\n",
       " hypothesis: прилет подпушка score: -22.583009,\n",
       " hypothesis: приветы пампушка score: -22.647849,\n",
       " hypothesis: прилет помпу ка score: -22.706026,\n",
       " hypothesis: прилет пом ушка score: -22.706026,\n",
       " hypothesis: прилет помп ушка score: -22.706026,\n",
       " hypothesis: прилет попушка score: -22.706026,\n",
       " hypothesis: прилет по пушка score: -22.706026,\n",
       " hypothesis: прилет пом пушка score: -22.706026,\n",
       " hypothesis: привит пампушка score: -22.762745,\n",
       " hypothesis: приветы подпушка score: -22.834631,\n",
       " hypothesis: привес пампушка score: -22.837011,\n",
       " hypothesis: привит подпушка score: -22.949529,\n",
       " hypothesis: приветы помпу ка score: -22.957648,\n",
       " hypothesis: приветы пом ушка score: -22.957648,\n",
       " hypothesis: приветы помп ушка score: -22.957648,\n",
       " hypothesis: приветы попушка score: -22.957648,\n",
       " hypothesis: приветы по пушка score: -22.957648,\n",
       " hypothesis: приветы пом пушка score: -22.957648,\n",
       " hypothesis: привета пампушка score: -22.991599,\n",
       " hypothesis: привес подпушка score: -23.023794,\n",
       " hypothesis: привит помпу ка score: -23.072546,\n",
       " hypothesis: привит пом ушка score: -23.072546,\n",
       " hypothesis: привит помп ушка score: -23.072546,\n",
       " hypothesis: привит попушка score: -23.072546,\n",
       " hypothesis: привит по пушка score: -23.072546,\n",
       " hypothesis: привит пом пушка score: -23.072546,\n",
       " hypothesis: привес помпу ка score: -23.146810,\n",
       " hypothesis: привес пом ушка score: -23.146810,\n",
       " hypothesis: привес помп ушка score: -23.146810,\n",
       " hypothesis: привес попушка score: -23.146810,\n",
       " hypothesis: привес по пушка score: -23.146810,\n",
       " hypothesis: привес пом пушка score: -23.146810,\n",
       " hypothesis: привьет пампушка score: -23.147938,\n",
       " hypothesis: привета подпушка score: -23.178382,\n",
       " hypothesis: причет пампушка score: -23.178753,\n",
       " hypothesis: привета помпу ка score: -23.301398,\n",
       " hypothesis: привета пом ушка score: -23.301398,\n",
       " hypothesis: привета помп ушка score: -23.301398,\n",
       " hypothesis: привета попушка score: -23.301398,\n",
       " hypothesis: привета по пушка score: -23.301398,\n",
       " hypothesis: привета пом пушка score: -23.301398,\n",
       " hypothesis: привьет подпушка score: -23.334722,\n",
       " hypothesis: причет подпушка score: -23.365536,\n",
       " hypothesis: приват пампушка score: -23.393684,\n",
       " hypothesis: привьет помпу ка score: -23.457738,\n",
       " hypothesis: привьет пом ушка score: -23.457738,\n",
       " hypothesis: привьет помп ушка score: -23.457738,\n",
       " hypothesis: привьет попушка score: -23.457738,\n",
       " hypothesis: привьет по пушка score: -23.457738,\n",
       " hypothesis: привьет пом пушка score: -23.457738,\n",
       " hypothesis: причет помпу ка score: -23.488553,\n",
       " hypothesis: причет пом ушка score: -23.488553,\n",
       " hypothesis: причет помп ушка score: -23.488553,\n",
       " hypothesis: причет попушка score: -23.488553,\n",
       " hypothesis: причет по пушка score: -23.488553,\n",
       " hypothesis: причет пом пушка score: -23.488553,\n",
       " hypothesis: приват подпушка score: -23.580467,\n",
       " hypothesis: приват помпу ка score: -23.703484,\n",
       " hypothesis: приват пом ушка score: -23.703484,\n",
       " hypothesis: приват помп ушка score: -23.703484,\n",
       " hypothesis: приват попушка score: -23.703484,\n",
       " hypothesis: приват по пушка score: -23.703484,\n",
       " hypothesis: приват пом пушка score: -23.703484,\n",
       " hypothesis: привете пампушка score: -23.912977,\n",
       " hypothesis: привей пампушка score: -23.940559,\n",
       " hypothesis: привето пампушка score: -23.940559,\n",
       " hypothesis: привету пампушка score: -23.940559,\n",
       " hypothesis: приветь пампушка score: -23.940559,\n",
       " hypothesis: при ет пампушка score: -23.940559,\n",
       " hypothesis: приврет пампушка score: -23.940559,\n",
       " hypothesis: пр вет пампушка score: -23.940559,\n",
       " hypothesis: при вет пампушка score: -23.940559,\n",
       " hypothesis: п ивет пампушка score: -23.940559,\n",
       " hypothesis: пр ивет пампушка score: -23.940559,\n",
       " hypothesis: привете подпушка score: -24.099760,\n",
       " hypothesis: привей подпушка score: -24.127342,\n",
       " hypothesis: привето подпушка score: -24.127342,\n",
       " hypothesis: привету подпушка score: -24.127342,\n",
       " hypothesis: приветь подпушка score: -24.127342,\n",
       " hypothesis: при ет подпушка score: -24.127342,\n",
       " hypothesis: приврет подпушка score: -24.127342,\n",
       " hypothesis: пр вет подпушка score: -24.127342,\n",
       " hypothesis: при вет подпушка score: -24.127342,\n",
       " hypothesis: п ивет подпушка score: -24.127342,\n",
       " hypothesis: пр ивет подпушка score: -24.127342,\n",
       " hypothesis: привете помпу ка score: -24.222776,\n",
       " hypothesis: привете пом ушка score: -24.222776,\n",
       " hypothesis: привете помп ушка score: -24.222776,\n",
       " hypothesis: привете попушка score: -24.222776,\n",
       " hypothesis: привете по пушка score: -24.222776,\n",
       " hypothesis: привете пом пушка score: -24.222776,\n",
       " hypothesis: привей помпу ка score: -24.250359,\n",
       " hypothesis: привей пом ушка score: -24.250359,\n",
       " hypothesis: привей помп ушка score: -24.250359,\n",
       " hypothesis: привей попушка score: -24.250359,\n",
       " hypothesis: привей по пушка score: -24.250359,\n",
       " hypothesis: привей пом пушка score: -24.250359,\n",
       " hypothesis: привето помпу ка score: -24.250359,\n",
       " hypothesis: привето пом ушка score: -24.250359,\n",
       " hypothesis: привето помп ушка score: -24.250359,\n",
       " hypothesis: привето попушка score: -24.250359,\n",
       " hypothesis: привето по пушка score: -24.250359,\n",
       " hypothesis: привето пом пушка score: -24.250359,\n",
       " hypothesis: привету помпу ка score: -24.250359,\n",
       " hypothesis: привету пом ушка score: -24.250359,\n",
       " hypothesis: привету помп ушка score: -24.250359,\n",
       " hypothesis: привету попушка score: -24.250359,\n",
       " hypothesis: привету по пушка score: -24.250359,\n",
       " hypothesis: привету пом пушка score: -24.250359,\n",
       " hypothesis: приветь помпу ка score: -24.250359,\n",
       " hypothesis: приветь пом ушка score: -24.250359,\n",
       " hypothesis: приветь помп ушка score: -24.250359,\n",
       " hypothesis: приветь попушка score: -24.250359,\n",
       " hypothesis: приветь по пушка score: -24.250359,\n",
       " hypothesis: приветь пом пушка score: -24.250359,\n",
       " hypothesis: при ет помпу ка score: -24.250359,\n",
       " hypothesis: при ет пом ушка score: -24.250359,\n",
       " hypothesis: при ет помп ушка score: -24.250359,\n",
       " hypothesis: при ет попушка score: -24.250359,\n",
       " hypothesis: при ет по пушка score: -24.250359,\n",
       " hypothesis: при ет пом пушка score: -24.250359,\n",
       " hypothesis: приврет помпу ка score: -24.250359,\n",
       " hypothesis: приврет пом ушка score: -24.250359,\n",
       " hypothesis: приврет помп ушка score: -24.250359,\n",
       " hypothesis: приврет попушка score: -24.250359,\n",
       " hypothesis: приврет по пушка score: -24.250359,\n",
       " hypothesis: приврет пом пушка score: -24.250359,\n",
       " hypothesis: пр вет помпу ка score: -24.250359,\n",
       " hypothesis: пр вет пом ушка score: -24.250359,\n",
       " hypothesis: пр вет помп ушка score: -24.250359,\n",
       " hypothesis: пр вет попушка score: -24.250359,\n",
       " hypothesis: пр вет по пушка score: -24.250359,\n",
       " hypothesis: пр вет пом пушка score: -24.250359,\n",
       " hypothesis: при вет помпу ка score: -24.250359,\n",
       " hypothesis: при вет пом ушка score: -24.250359,\n",
       " hypothesis: при вет помп ушка score: -24.250359,\n",
       " hypothesis: при вет попушка score: -24.250359,\n",
       " hypothesis: при вет по пушка score: -24.250359,\n",
       " hypothesis: при вет пом пушка score: -24.250359,\n",
       " hypothesis: п ивет помпу ка score: -24.250359,\n",
       " hypothesis: п ивет пом ушка score: -24.250359,\n",
       " hypothesis: п ивет помп ушка score: -24.250359,\n",
       " hypothesis: п ивет попушка score: -24.250359,\n",
       " hypothesis: п ивет по пушка score: -24.250359,\n",
       " hypothesis: п ивет пом пушка score: -24.250359,\n",
       " hypothesis: пр ивет помпу ка score: -24.250359,\n",
       " hypothesis: пр ивет пом ушка score: -24.250359,\n",
       " hypothesis: пр ивет помп ушка score: -24.250359,\n",
       " hypothesis: пр ивет попушка score: -24.250359,\n",
       " hypothesis: пр ивет по пушка score: -24.250359,\n",
       " hypothesis: пр ивет пом пушка score: -24.250359,\n",
       " hypothesis: привел помпушка score: -25.158980,\n",
       " hypothesis: примет помпушка score: -25.267542,\n",
       " hypothesis: привез помпушка score: -25.599453,\n",
       " hypothesis: придет помпушка score: -25.640902,\n",
       " hypothesis: приветпомпу ка score: -26.250359,\n",
       " hypothesis: приветпом ушка score: -26.250359,\n",
       " hypothesis: приветпомп ушка score: -26.250359]"
      ]
     },
     "execution_count": 6,
     "metadata": {},
     "output_type": "execute_result"
    }
   ],
   "source": [
    "hypotheses = sc.analyze_sentence(\"привет помпушка\")\n",
    "hypotheses"
   ]
  },
  {
   "cell_type": "code",
   "execution_count": 19,
   "metadata": {},
   "outputs": [
    {
     "data": {
      "text/plain": [
       "[hypothesis: мыприехали вдеревню score: -16.250359,\n",
       " hypothesis: мыприехали деревню score: -16.987349,\n",
       " hypothesis: мыприехаливдеревню score: -18.750359,\n",
       " hypothesis: мыприехали в деревню score: -20.250359,\n",
       " hypothesis: м приехали вдеревню score: -20.250359,\n",
       " hypothesis: мы приехали вдеревню score: -20.250359,\n",
       " hypothesis: м приехали деревню score: -20.987349,\n",
       " hypothesis: мы приехали деревню score: -20.987349,\n",
       " hypothesis: мыприехалидеревню score: -22.750359,\n",
       " hypothesis: мыприехалив деревню score: -22.750359,\n",
       " hypothesis: м приехаливдеревню score: -22.750359,\n",
       " hypothesis: мы приехаливдеревню score: -22.750359,\n",
       " hypothesis: м приехали в деревню score: -24.250359,\n",
       " hypothesis: мы приехали в деревню score: -24.250359,\n",
       " hypothesis: м приехалидеревню score: -26.750359,\n",
       " hypothesis: м приехалив деревню score: -26.750359,\n",
       " hypothesis: мы приехалидеревню score: -26.750359,\n",
       " hypothesis: мы приехалив деревню score: -26.750359]"
      ]
     },
     "execution_count": 19,
     "metadata": {},
     "output_type": "execute_result"
    }
   ],
   "source": [
    "hypotheses = sc.analyze_sentence(\"мыприехали вдеревню\")\n",
    "hypotheses"
   ]
  },
  {
   "cell_type": "code",
   "execution_count": 22,
   "metadata": {},
   "outputs": [
    {
     "data": {
      "text/plain": [
       "-8.0"
      ]
     },
     "execution_count": 22,
     "metadata": {},
     "output_type": "execute_result"
    }
   ],
   "source": [
    "hypotheses[13].err_score()"
   ]
  },
  {
   "cell_type": "markdown",
   "metadata": {},
   "source": [
    "# Evaluate model"
   ]
  },
  {
   "cell_type": "code",
   "execution_count": 12,
   "metadata": {},
   "outputs": [],
   "source": [
    "DIALOG_DATA_PATH = 'data/dialog/'\n",
    "# Train data\n",
    "TRAIN_ERRONEOUS_DATA = DIALOG_DATA_PATH + \"source_sents.txt\"\n",
    "TRAIN_GOLDEN_DATA = DIALOG_DATA_PATH + \"corrected_sents.txt\"\n",
    "\n",
    "# Test data\n",
    "TEST_ERRONEOUS_DATA = DIALOG_DATA_PATH + \"test_sample_testset.txt\"\n",
    "TEST_GOLDEN_DATA = DIALOG_DATA_PATH + \"corr_sample_testset.txt\""
   ]
  },
  {
   "cell_type": "code",
   "execution_count": 13,
   "metadata": {},
   "outputs": [],
   "source": [
    "with open(TEST_ERRONEOUS_DATA, 'r') as sents_file:\n",
    "    erroneous_lines = sents_file.readlines()\n",
    "    erroneous_lines = [line.strip() for line in erroneous_lines]\n",
    "    \n",
    "with open(TEST_GOLDEN_DATA, 'r') as sents_file:\n",
    "    golden_lines = sents_file.readlines()\n",
    "    golden_lines = [line.strip() for line in golden_lines]"
   ]
  },
  {
   "cell_type": "code",
   "execution_count": 14,
   "metadata": {},
   "outputs": [],
   "source": [
    "from evaluate import evaluate_spelling_corrector\n",
    "import datetime as dt"
   ]
  },
  {
   "cell_type": "code",
   "execution_count": 15,
   "metadata": {},
   "outputs": [
    {
     "name": "stdout",
     "output_type": "stream",
     "text": [
      "0:02:34.719621\n"
     ]
    }
   ],
   "source": [
    "start_index=4\n",
    "fin_index = 13\n",
    "start_dt = dt.datetime.now()\n",
    "hypotheses = sc(erroneous_lines[start_index:fin_index])\n",
    "fin_dt = dt.datetime.now()\n",
    "print(fin_dt-start_dt)"
   ]
  },
  {
   "cell_type": "code",
   "execution_count": 16,
   "metadata": {},
   "outputs": [
    {
     "data": {
      "text/plain": [
       "['судьба человека может складываться очень разнообразно в жизни много прекрасных светлых радостных моментов',\n",
       " 'а я думаю вот если бы хозяин этой лодки тебе ее подарил и ты бы собрал знакомых и устроил на этой лодке большие катание с размахом',\n",
       " 'например парадный портрет николая ii при орденах и регалиях освященный как икона и снабженный 5-рублевой монетой и роскошным текстом снизу',\n",
       " 'двубортное кашемировое пальто песочного цвета классическог фасона',\n",
       " 'поговорила с директором и он мне обещал позвонить вечером и сказать берет он меня на работу',\n",
       " 'схездил потом в ркб оказалось что на нем 3 царапины купил мази и капли',\n",
       " 'но даже когда мы приблизились к нижнему уровню замка я поверить не могла что он такой огромный как показывалось на карте',\n",
       " 'давно стоит понять что в этой жизни никто не делает так как лутче тебе',\n",
       " 'а вообще конечно не представляю как все пятьдесят лет все забавляются над дядькой']"
      ]
     },
     "execution_count": 16,
     "metadata": {},
     "output_type": "execute_result"
    }
   ],
   "source": [
    "hypotheses"
   ]
  },
  {
   "cell_type": "code",
   "execution_count": 17,
   "metadata": {},
   "outputs": [
    {
     "name": "stdout",
     "output_type": "stream",
     "text": [
      "Precision=75.00 Recall=42.86 FMeasure=54.55\n",
      "3 4 7\n",
      "0.75\n",
      "0.42857142857142855\n",
      "0.5454545454545454\n"
     ]
    }
   ],
   "source": [
    "results = evaluate_spelling_corrector(erroneous_lines[start_index:fin_index], \n",
    "                                      golden_lines[start_index:fin_index], \n",
    "                                      hypotheses)\n",
    "print(results['precision'])\n",
    "print(results['recall'])\n",
    "print(results['f_measure'])"
   ]
  },
  {
   "cell_type": "code",
   "execution_count": null,
   "metadata": {},
   "outputs": [],
   "source": [
    "# full test evaluation"
   ]
  },
  {
   "cell_type": "code",
   "execution_count": null,
   "metadata": {},
   "outputs": [],
   "source": [
    "start_dt = dt.datetime.now()\n",
    "hypotheses = sc(erroneous_lines)\n",
    "fin_dt = dt.datetime.now()\n",
    "print(fin_dt-start_dt)"
   ]
  },
  {
   "cell_type": "code",
   "execution_count": 12,
   "metadata": {},
   "outputs": [
    {
     "name": "stdout",
     "output_type": "stream",
     "text": [
      "Precision=54.67 Recall=57.13 FMeasure=55.87\n",
      "1130 2067 1978\n",
      "0.5466860183841316\n",
      "0.5712841253791708\n",
      "0.5587144622991348\n"
     ]
    }
   ],
   "source": [
    "results = evaluate_spelling_corrector(erroneous_lines, golden_lines, hypotheses)\n",
    "print(results['precision'])\n",
    "print(results['recall'])\n",
    "print(results['f_measure'])"
   ]
  },
  {
   "cell_type": "code",
   "execution_count": null,
   "metadata": {},
   "outputs": [],
   "source": [
    "erroneous_lines"
   ]
  },
  {
   "cell_type": "markdown",
   "metadata": {},
   "source": [
    "# Graph Based Hypotheses Trimmer\n",
    "\n",
    "Assumptions:\n",
    "1. We have a graph of token hypotheses \n",
    "2. we have a autoregressive language model LM\n",
    "3. Graph has a root node (the place where all sentence hypotheses starts)\n",
    "4. Algorithm goes through a graph with breadth search\n",
    "5. and iteratively trims bad hypotheses from analysis"
   ]
  },
  {
   "cell_type": "code",
   "execution_count": null,
   "metadata": {},
   "outputs": [],
   "source": [
    "\n",
    "class HypothesesGraph():\n",
    "    \"\"\"\n",
    "    sentence hypotheses\n",
    "    tokens hypotheses\n",
    "    \"\"\"\n",
    "    def __init__(self):\n",
    "        self.root_node = None\n",
    "        self.fin_node = None\n",
    "\n",
    "    def calculate_lm_scores(self, lm_obj):\n",
    "        \"\"\"\n",
    "        Runs the process of calculation of hypotheses scores\n",
    "        \n",
    "        1. Starts from fin_node and requests prefix_hypotheses.\n",
    "        2. \n",
    "        \"\"\"\n",
    "        pass\n",
    "        \n",
    "        \n",
    "class GraphNode():\n",
    "    \"\"\" \n",
    "    A token hypothesis of segment of Input Sentence\n",
    "    \n",
    "    \n",
    "    \"\"\"\n",
    "    def __init__(self, token_hypothesis):\n",
    "        # partial hypotheses that are produced after attaching this node to all prefixes hypotheses\n",
    "        self.output_hypotheses = []\n",
    "        \n",
    "        # boolean flag that marks that all prefix hypotheses are calculated\n",
    "        self.calculated_outputs = False\n",
    "        \n",
    "        self.token_hypothesis = token_hypothesis\n",
    "    \n",
    "    def get_prefix_hypotheses(self, top_k=-1):\n",
    "        \"\"\"\n",
    "        For a node collects hypotheses from previous stage (all parent nodes) \n",
    "        and filters out the ones with low likelihood\n",
    "        \"\"\"\n",
    "        prefix_hypotheses = []\n",
    "        for each_prefix_node in self.from:        \n",
    "            if len(each_prefix_node.output_hypotheses)>0:\n",
    "                prefix_hypotheses += each_prefix_node.output_hypotheses\n",
    "            else:\n",
    "                raise Exception(\"prefix Node %s is unfilled!\" % each_prefix_node)\n",
    "        \n",
    "        hypos = sorted(prefix_hypotheses, key=lambda x: x.lm_score(), reverse=True)\n",
    "        \n",
    "        if top_k>0:\n",
    "            # make pruning:\n",
    "            hypos = hypos[:top_k]\n",
    "            \n",
    "        return hypos\n",
    "    \n",
    "    def push_to_output_hypotheses(self, hypothesis):\n",
    "        \"\"\"\n",
    "        adds a hypothesis into list of output hypotheses\n",
    "        \"\"\"\n",
    "        self.output_hypotheses.append(hypothesis)\n",
    "\n",
    "\n",
    "def calculate_output_hypotheses_for_node(node, lm):\n",
    "    \"\"\"\n",
    "    Calculates output_hypotheses for a node using prefix_hypotheses and information about node's TokenHypothesis\n",
    "    \"\"\"\n",
    "    partial_sentence_hypotheses = node.get_prefix_hypotheses(top_k=-1)\n",
    "    \n",
    "    # to assure that we dont append twice\n",
    "    assert len(node.output_hypotheses)==0\n",
    "    \n",
    "    for each_input_hypothesis in partial_sentence_hypotheses:\n",
    "\n",
    "        output_hypothesis, score = lm.score(each_input_hypothesis, each_child.token_hypothesis)\n",
    "\n",
    "        node.push_to_output_hypotheses(output_hypothesis)\n",
    "    return node\n",
    "\n",
    "\n",
    "def analyze_with_lm(graph, lm, start_node=None):\n",
    "    \"\"\"\n",
    "    Method to calculate likelihoods one stage deeper\n",
    "    \"\"\"\n",
    "    if not start_node:\n",
    "        current_node = graph.root_node        \n",
    "    else: \n",
    "        current_node = start_node\n",
    "        \n",
    "    for each_child in current_node.to:\n",
    "        # each_child has a set of prefix hypotheses\n",
    "        # we need to calc them all\n",
    "        \n",
    "        each_child = calculate_output_hypotheses_for_node(each_child, lm)\n",
    "        # add chld to agenda?\n",
    "        # how to avoid adding twice?\n",
    "        \n",
    "        # node is finished. we can go deeper\n",
    "    \n",
    "    # here all children are processed and we can go deeper    \n",
    "    return current_node.to \n",
    "        \n",
    "\n",
    "def analyze_graph_with_lm(graph, lm):\n",
    "    agenda = [graph.root_node]\n",
    "    \n",
    "    while len(agenda)>0:\n",
    "        \n",
    "    processed_nodes = analyze_with_lm(graph, lm)\n",
    "    \n",
    "    for each_processed_node in processed_nodes:\n",
    "        nodes_for_next_step = analyze_with_lm(graph, lm, start_node=each_processed_node)\n",
    "    \n"
   ]
  },
  {
   "cell_type": "code",
   "execution_count": null,
   "metadata": {},
   "outputs": [],
   "source": [
    "root_node = GraphNode()\n",
    "\n",
    "мамамыла\n",
    "мама\n",
    "мыла \n",
    "рыла\n",
    "раму\n",
    "ламу\n",
    "маму\n",
    "мамамылараму\n",
    "мылом\n",
    "мы\n",
    "лом"
   ]
  },
  {
   "cell_type": "code",
   "execution_count": null,
   "metadata": {},
   "outputs": [],
   "source": [
    "# NetworkX"
   ]
  },
  {
   "cell_type": "code",
   "execution_count": 39,
   "metadata": {},
   "outputs": [],
   "source": [
    "import networkx as nx\n",
    "G = nx.DiGraph()\n",
    "\n",
    "root_node = \"<S\" \n",
    "\n",
    "mamamila_12 = \"мамамыла\" \n",
    "mama_1 = \"мама\" \n",
    "dama_1 = \"дама\" \n",
    "\n",
    "mila_2 = \"мыла\" \n",
    "rila_2 = \"рыла\" \n",
    "\n",
    "ramu_3 = \"раму\"\n",
    "lamu_3 = \"ламу\" \n",
    "\n",
    "mi_4 = \"мы\"\n",
    "lom_5 = \"лом\"\n",
    "milom_45 = \"мылом\"\n",
    "\n",
    "fin_node = \"S>\" \n",
    "\n",
    "# G.add_node(root_node)\n",
    "\n",
    "# G.add_node(mamamila_12)\n",
    "# G.add_node(mama_1)\n",
    "# G.add_node(dama_1)\n",
    "\n",
    "# G.add_node(fin_node)\n",
    "\n",
    "G.add_edge(root_node, mamamila_12)\n",
    "G.add_edge(root_node, mama_1)\n",
    "G.add_edge(root_node, dama_1)\n",
    "\n",
    "G.add_edge(mama_1, mila_2)\n",
    "G.add_edge(dama_1, mila_2)\n",
    "G.add_edge(mama_1, rila_2)\n",
    "G.add_edge(dama_1, rila_2)\n",
    "\n",
    "G.add_edge(mamamila_12, ramu_3)\n",
    "G.add_edge(mamamila_12, lamu_3)\n",
    "G.add_edge(mila_2, ramu_3)\n",
    "G.add_edge(mila_2, lamu_3)\n",
    "G.add_edge(rila_2, ramu_3)\n",
    "G.add_edge(rila_2, lamu_3)\n",
    "\n",
    "G.add_edge(ramu_3, mi_4)\n",
    "G.add_edge(ramu_3, milom_45)\n",
    "\n",
    "G.add_edge(lamu_3, mi_4)\n",
    "G.add_edge(lamu_3, milom_45)\n",
    "\n",
    "\n",
    "G.add_edge(mi_4, lom_5)\n",
    "\n",
    "G.add_edge(milom_45, fin_node)\n",
    "G.add_edge(lom_5, fin_node)"
   ]
  },
  {
   "cell_type": "code",
   "execution_count": 3,
   "metadata": {},
   "outputs": [
    {
     "data": {
      "text/plain": [
       "<networkx.classes.digraph.DiGraph at 0x7f484c3490b8>"
      ]
     },
     "execution_count": 3,
     "metadata": {},
     "output_type": "execute_result"
    }
   ],
   "source": [
    "G"
   ]
  },
  {
   "cell_type": "code",
   "execution_count": 71,
   "metadata": {},
   "outputs": [
    {
     "data": {
      "image/png": "[encoded data removed]",
      "text/plain": [
       "<Figure size 432x288 with 1 Axes>"
      ]
     },
     "metadata": {},
     "output_type": "display_data"
    }
   ],
   "source": [
    "%matplotlib inline\n",
    "import networkx as nx\n",
    "import matplotlib.pyplot as plt\n",
    "\n",
    "# g1 = nx.petersen_graph()\n",
    "# pos = nx.spring_layout(G)\n",
    "pos = nx.shell_layout(G)\n",
    "nx.draw_networkx_nodes(G, pos, node_color='g',\n",
    "                       node_size = 500)\n",
    "nx.draw_networkx_labels(G, pos)\n",
    "nx.draw_networkx_edges(G, pos, edge_color='r', arrows=True)\n",
    "# nx.draw_networkx_edges(G, pos, edgelist=black_edges, arrows=False)\n",
    "plt.show()\n",
    "\n",
    "\n",
    "# nx.draw(G)\n",
    "# nx.draw_networkx_labels(G, pos=nx.spring_layout(G))\n",
    "# # nx.draw_networkx_labels(G, pos=nx.random_layout(G))\n",
    "# plt.show()"
   ]
  },
  {
   "cell_type": "code",
   "execution_count": null,
   "metadata": {},
   "outputs": [],
   "source": [
    "#####"
   ]
  },
  {
   "cell_type": "code",
   "execution_count": null,
   "metadata": {},
   "outputs": [],
   "source": [
    "ROOT_PATH = \"~/.deeppavlov\"\n",
    "DOWNLOADS_PATH = ROOT_PATH + \"/downloads\"        \n",
    "kenlm_model = KenlmElector(load_path=DOWNLOADS_PATH+\"/language_models/ru_wiyalen_no_punkt.arpa.binary\")\n",
    "# state = kenlm.State()\n",
    "\n",
    "def score_hypothesis_by_tokens(kenlm_model, sentence_hypothesis):\n",
    "    state = kenlm.State()\n",
    "    prev_state = state\n",
    "    kenlm_model.lm.BeginSentenceWrite(state)\n",
    "    \n",
    "    accum = 0.0\n",
    "    for each_tok_hyp in sentence_hypothesis.token_hypotheses:\n",
    "        next_state = kenlm.State()\n",
    "        uniscore=kenlm_model.lm.BaseScore(prev_state, each_tok_hyp.text, next_state)\n",
    "        if each_tok_hyp.merges_count>0:\n",
    "            # check each_tok_hyp is OOV! otherwise heuristics is incorrect\n",
    "            uniscore *= each_tok_hyp.merges_count+1\n",
    "        print(each_tok_hyp, uniscore)\n",
    "        accum += uniscore\n",
    "        prev_state = next_state\n",
    "        \n",
    "def score_hypothesis_by_tokens_nos(kenlm_model, sentence_hypothesis):\n",
    "    state = kenlm.State()\n",
    "    prev_state = state\n",
    "    kenlm_model.lm.NullContextWrite(state)\n",
    "    accum = 0.0\n",
    "    for each_tok_hyp in sentence_hypothesis.token_hypotheses:\n",
    "        next_state = kenlm.State()\n",
    "        uniscore=kenlm_model.lm.BaseScore(prev_state, each_tok_hyp.text, next_state)\n",
    "        if each_tok_hyp.merges_count>0:\n",
    "            # check each_tok_hyp is OOV! otherwise heuristics is incorrect\n",
    "            uniscore *= each_tok_hyp.merges_count+1\n",
    "#         print(each_tok_hyp, uniscore)\n",
    "        accum += uniscore\n",
    "        prev_state = next_state"
   ]
  },
  {
   "cell_type": "markdown",
   "metadata": {},
   "source": [
    "# Trie Optimization Experiment"
   ]
  },
  {
   "cell_type": "code",
   "execution_count": null,
   "metadata": {},
   "outputs": [],
   "source": [
    "\n",
    "import datrie\n",
    "\n",
    "# alphabet of the language:\n",
    "alphabet = 'abcdefghijklmnopqrstuvwxyz 1234567890абвгдеёжзиёклмнопрстуфхцчшщъыьэюя-'\n",
    "\n",
    "class TrieHypothesesManager():\n",
    "    def __init__(alphabet):\n",
    "        self.trie = datrie.Trie(alphabet)\n",
    "        \n",
    "    def push_hypotheses_hub(self, hypotheses):\n",
    "        pass\n",
    "    \n",
    "    def analyze_hypotheses_with_lm(self, lm):\n",
    "        pass\n",
    "    \n",
    "    \n",
    "    def prune_hypotheses(self):\n",
    "        pass"
   ]
  }
 ],
 "metadata": {
  "kernelspec": {
   "display_name": ".venv3",
   "language": "python",
   "name": ".venv3"
  },
  "language_info": {
   "codemirror_mode": {
    "name": "ipython",
    "version": 3
   },
   "file_extension": ".py",
   "mimetype": "text/x-python",
   "name": "python",
   "nbconvert_exporter": "python",
   "pygments_lexer": "ipython3",
   "version": "3.6.8"
  }
 },
 "nbformat": 4,
 "nbformat_minor": 2
}
